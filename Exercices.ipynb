{
 "cells": [
  {
   "cell_type": "markdown",
   "metadata": {
    "hideCode": false,
    "hidePrompt": false
   },
   "source": [
    "# Changement de variable\n",
    "\n",
    "Le but de cet exercice est de générer une variable aléatoire normale à partir d'une variable aléatoire uniforme.\n",
    "\n",
    "1. Générer un échantillon de 10000 valeurs tirées uniformément entre 0 et 1.\n",
    "2. A partir de cet échantillon, construire un échantillon de 10000 valeurs distribuées suivant une loi normale de moyenne égale à 0.5 et d'écart-type égal à 0.2\n",
    "3. Faire les histogrammes des deux échantillons.\n",
    "4. Calculer la moyenne empirique et l'écart-type empirique pour le deuxième échantillon. Comparer les valeurs obtenues aux valeurs attendues."
   ]
  },
  {
   "cell_type": "code",
   "execution_count": null,
   "metadata": {
    "hideCode": false,
    "hideOutput": true,
    "hidePrompt": false
   },
   "outputs": [],
   "source": [
    "x<-runif(10000)\n",
    "mu<-0.5\n",
    "sigma<-0.2\n",
    "y<-qnorm(x, mu, sigma)\n",
    "\n",
    "par(mfrow = c(1,2))\n",
    "options(repr.plot.width=10, repr.plot.height=4)\n",
    "hist(x, breaks=100)\n",
    "hist(y, breaks=100)\n",
    "\n",
    "sprintf(\"The mean (sd) is: %.2f (%.2f)\", mean(y), sd(y))"
   ]
  },
  {
   "cell_type": "markdown",
   "metadata": {
    "hideCode": false,
    "hidePrompt": false
   },
   "source": [
    "# Théorème central limite\n",
    "\n",
    "Dans cet exercice, nous nous proposons de vérifier le théorème central limite empiriquement, à partir de variables aléatoires i.i.d uniforme. Soit $X\\sim U(0, 1)$ et soit $S$ la somme de plusieurs réalisations de $X$ :\n",
    "\n",
    "$$S = \\sum_{i=1}^{n} X_i$$\n",
    "\n",
    "1. Calculer la moyenne et l'écart-type de $X$.\n",
    "2. On prend $n=6$. Tirer un grand nombre de fois les $X_i$ et, à chaque fois, calculer la variable centrée réduite de $S$ (que l'on notera $S'$).\n",
    "3. Représenter la distribution de $S'$.\n",
    "4. Superposer la loi normale centrée réduite.\n",
    "5. Recommencer pour différentes valeurs de $n$.\n",
    "6. Conclusions ?"
   ]
  },
  {
   "cell_type": "code",
   "execution_count": null,
   "metadata": {
    "hideCode": false,
    "hideOutput": false,
    "hidePrompt": false
   },
   "outputs": [],
   "source": [
    "N=10000\n",
    "Nterms=3\n",
    "\n",
    "s = c()\n",
    "\n",
    "min = 0\n",
    "max = 1\n",
    "avg = (min+max)/2\n",
    "stddev = (max-min)/sqrt(12)\n",
    "\n",
    "for (i in 1:N) {\n",
    "    vars = runif(Nterms, min = min, max = max)\n",
    "    s[i] = (sum(vars) - Nterms*avg)/(stddev*sqrt(Nterms))\n",
    "}\n",
    "\n",
    "hist(s, breaks=50, xlim=c(-10,10), ylim=c(0, dnorm(0)*1.2), prob=T)\n",
    "\n",
    "pts = seq(-10, 10, by=0.1)\n",
    "lines(pts, dnorm(pts))"
   ]
  },
  {
   "cell_type": "markdown",
   "metadata": {
    "hideCode": false,
    "hidePrompt": false
   },
   "source": [
    "# Visualisation de la loi de Student\n",
    "\n",
    "Soit $X$ un échantillon de valeurs tirées suivant une loi normale de moyenne $\\mu$ et écart-type $\\sigma$. Nous savons que\n",
    "\n",
    "$$Z = \\frac{\\bar{X} - \\mu}{\\sigma/\\sqrt{n}}$$\n",
    "\n",
    "est distribué suivant une loi normale centrée réduite et que \n",
    "\n",
    "$$T = \\frac{\\bar{X} - \\mu}{s/\\sqrt(n)}$$\n",
    "\n",
    "avec $s^2=\\frac{1}{n-1}\\sum_{i=1}^{n}(X_i - \\bar{X})^2$ est distribué suivant une loi de Student à $n-1$ degrés de libertés.\n",
    "\n",
    "Le but de cet exercice est de générer et représenter les distributions de $Z$ et $T$ afin de les comparer.\n",
    "\n",
    "1. Générer un échantillon $X$ de taille 3 avec $\\mu=3$ et $\\sigma=2$.\n",
    "2. Répéter cela 10000 fois et, à chaque fois, calculer $Z$ et $T$.\n",
    "3. Représenter les distributions de $Z$ et $T$.\n",
    "4. Faire le QQ plot de $Z$ et $T$.\n",
    "5. Commentaires ?"
   ]
  },
  {
   "cell_type": "code",
   "execution_count": null,
   "metadata": {
    "hideCode": false,
    "hideOutput": true,
    "hidePrompt": false
   },
   "outputs": [],
   "source": [
    "n = 3\n",
    "mu = 3\n",
    "sd = 2\n",
    "\n",
    "nPseudoExp = 10000\n",
    "\n",
    "z = c()\n",
    "t = c()\n",
    "\n",
    "for(i in 1:nPseudoExp) {\n",
    "    X = rnorm(n, mean = mu, sd = sd)\n",
    "    z[i] = (mean(X)-mu)/(sd/sqrt(n))\n",
    "    t[i] = (mean(X)-mu)/(sd(X)/sqrt(n))\n",
    "}\n",
    "\n",
    "par(mfrow = c(1, 2))\n",
    "options(repr.plot.width=10, repr.plot.height=4)\n",
    "hist(z, breaks=seq(floor(min(z)), ceiling(max(z)), by=0.1), xlim=c(-7, 7), col=rgb(1,0,0,0.3), prob=T)\n",
    "hist(t, breaks=seq(floor(min(t)), ceiling(max(t)), by=0.1), xlim=c(-7, 7), col=rgb(0,0,1,0.3), prob=T, add=T)\n",
    "x <- seq(-7, 7, length=100)\n",
    "lines(x, dt(x,n-1), lwd=2)\n",
    "qqplot(z, t)\n",
    "\n",
    "## Autre solution\n",
    "#library(ggplot2)\n",
    "#mu.x = 100  # population value\n",
    "#sd.x = 15   # population value\n",
    "#n = 3       # small sample size to highlight t distribution tails\n",
    "#sample.n = function(n){rnorm(n, mu.x, sd.x)}\n",
    "#calculate.t = function(x){(mean(x) - mu.x)/(sd(x)/sqrt(length(x)))} # uses sample sd\n",
    "#calculate.z = function(x){(mean(x) - mu.x)/(sd.x /sqrt(length(x)))} # uses population sd\n",
    "#sample.ts = replicate(1000, calculate.t(sample.n(n)))\n",
    "#sample.zs = replicate(1000, calculate.z(sample.n(n)))\n",
    "#df = rbind(data.frame(value=sample.ts, statistic=\"T\"),\n",
    "#           data.frame(value=sample.zs, statistic=\"Z\"))\n",
    "#ggplot(df, aes(x=value, fill=statistic))+\n",
    "#  geom_histogram(position=\"identity\", binwidth=0.2, alpha=0.5)+\n",
    "#  scale_x_continuous(limits=c(-5,5))"
   ]
  },
  {
   "cell_type": "markdown",
   "metadata": {
    "hideCode": false,
    "hidePrompt": false
   },
   "source": [
    "# Test de Student (source : [ici](http://www.real-statistics.com/students-t-distribution/one-sample-t-test/)):\n",
    "\n",
    "Un programme de reduction de poids prétend réduire l'obésité. Pour le vérifier, le programme est appliqué à 12 personnes et la variation de poids pour chacun d'eux est mesurée après 2 ans. La perte de poids pour chaque personne est donnée dans la table ci-dessous (les valeurs négatives indiquent un gain de poids à l'issu du programme).\n",
    "Peut-on conclure de ces résultats que le programme réduit bien l'obésité ?\n",
    "\n",
    "| Personne | Différence de poids |\n",
    "|---------|-------------|\n",
    "| 1       | 23          |\n",
    "| 2       | 15          |\n",
    "| 3       | -5          |\n",
    "| 4       | 7           |\n",
    "| 5       | 1           |\n",
    "| 6       | -10         |\n",
    "| 7       | 12          |\n",
    "| 8       | -8          |\n",
    "| 9       | 20          |\n",
    "| 10      | 8           |\n",
    "| 11      | -2          |\n",
    "| 12      | -5          |"
   ]
  },
  {
   "cell_type": "code",
   "execution_count": null,
   "metadata": {
    "hideCode": false,
    "hideOutput": true,
    "hidePrompt": false
   },
   "outputs": [],
   "source": [
    "sample = c(23, 15, -5, 7, 1, -10, 12, -8, 20, 8, -2, -5)\n",
    "\n",
    "n = length(sample)\n",
    "m = mean(sample)\n",
    "sigma = sd(sample)\n",
    "err = sigma/sqrt(n)\n",
    "n\n",
    "m\n",
    "sigma\n",
    "err\n",
    "mu = 0\n",
    "t = (m-mu)/err\n",
    "t\n",
    "alpha = 0.05\n",
    "tcrit = qt(1-alpha, n-1)\n",
    "tcrit\n",
    "pvalue = 1 - pt(t, n-1)\n",
    "pvalue\n",
    "\n",
    "# Or use right away the redefined R functionalities\n",
    "t.test(sample, mu=0, alternative=\"greater\")\n",
    "\n",
    "# Empirical verifications of assumptions\n",
    "options(repr.plot.width=4, repr.plot.height=4)\n",
    "boxplot(sample)\n",
    "grid()\n",
    "\n",
    "print(\"Conclusion: the weight loss is, at the 95% CL, not different from 0.\")"
   ]
  },
  {
   "cell_type": "markdown",
   "metadata": {
    "hideCode": false,
    "hideOutput": false,
    "hidePrompt": false
   },
   "source": [
    "# Test de Student (source : d'[ici](http://www.real-statistics.com/students-t-distribution/one-sample-t-test/)): \n",
    "\n",
    "Il y a 30 ans, la note moyenne des étudiants dans une promotion était de 78 sur 100. Afin de voir si la note moyenne a  évoluée en 30 ans, un test est réalisé cette année sur 40 étudiants. Les notes obtenues sont les suivantes :\n",
    "\n",
    "|    |    |    |    |\n",
    "|----|----|----|----|\n",
    "| 63 | 58 | 76 | 59 |\n",
    "| 95 | 84 | 83 | 68 |\n",
    "| 81 | 90 | 87 | 45 |\n",
    "| 75 | 38 | 54 | 52 |\n",
    "| 90 | 100 | 45 | 76 | \n",
    "| 64 | 80 | 58 | 78 | \n",
    "| 45 | 68 | 64 | 50 |\n",
    "| 59 | 49 | 63 | 75 | \n",
    "| 72 | 68 | 92 | 64 |\n",
    "| 35 | 60 | 87 | 86 |\n",
    "\n",
    "Peut-on dire que la note moyenne a changée en 30 ans ? (Dans ce cas on considère les variations à la baisse et à la hausse, on réalise donc un test bilatéral)"
   ]
  },
  {
   "cell_type": "code",
   "execution_count": null,
   "metadata": {
    "hideCode": false,
    "hideOutput": true,
    "hidePrompt": false
   },
   "outputs": [],
   "source": [
    "sample = c(63, 58, 76, 59,\n",
    "           95, 84, 83, 68,\n",
    "           81, 90, 87, 45,\n",
    "           75, 38, 54, 52,\n",
    "           90, 100, 45, 76, \n",
    "           64, 80, 58, 78, \n",
    "           45, 68, 64, 50,\n",
    "           59, 49, 63, 75, \n",
    "           72, 68, 92, 64,\n",
    "           35, 60, 87, 86)\n",
    "options(repr.plot.width=8, repr.plot.height=4)\n",
    "par(mfrow = c(1, 2))\n",
    "hist(sample, breaks=20)\n",
    "boxplot(sample)\n",
    "grid()\n",
    "\n",
    "n = length(sample)\n",
    "t = (mean(sample) - 78)/(sd(sample)/sqrt(n))\n",
    "t\n",
    "pvalue = pt(t, n-1)*2 # probability on left-side tail, as the observed value of the test is negative\n",
    "pvalue"
   ]
  },
  {
   "cell_type": "markdown",
   "metadata": {
    "hideCode": false,
    "hidePrompt": false
   },
   "source": [
    "# Histogramme (source : livre B. Clément p27)\n",
    "\n",
    "On dispose de 50 mesures de la distance d'interaction, en cm, d'un photon $\\gamma$ de $662~$keV dans du germanium :\n",
    "\n",
    "3.088, 3.544, 5.014, 0.386, 1.448, 1.749, 1.398, 2.255, 4.084, 0.673, \n",
    "\n",
    "4.085, 0.625, 4.899, 0.615, 4.029, 1.906, 2.094, 1.726, 0.388, 6.589,\n",
    "\n",
    "0.782, 3.807, 1.552, 1.955, 2.434, 3.683, 1.617, 1.811, 0.989, 4.388,\n",
    "\n",
    "1.706, 0.969, 0.524, 2.206, 2.955, 6.445, 0.81, 0.98, 6.407, 2.01,\n",
    "\n",
    "2.431, 0.748, 0.041, 1.019, 1.709, 1.418, 1.535, 2.068, 1.18, 1.064\n",
    "\n",
    "1. Calculez la moyenne et l'écart-type de l'échantillon.\n",
    "2. Déterminez le coefficient d'asymétrie et le kurtosis.\n",
    "3. D'après vos résultats, quelle forme attend-on pour l'histogramme ?\n",
    "4. Construisez la table de fréquences et l'histogramme avec des classes de $0.3~$cm, $1.2~$cm et $3~$cm de large.\n",
    "5. Calculez la moyenne et l'écart-type à partir des tables de fréquences, avec et sans corrections de Sheppard (pour l'écart-type) ($\\Delta_{Sheppard} = -\\frac{1}{12}\\delta^2$ où $\\delta$ est la largeur des classes).\n",
    "6. Calculez la médiane pour l'échantillon."
   ]
  },
  {
   "cell_type": "code",
   "execution_count": null,
   "metadata": {
    "hideCode": false,
    "hidePrompt": false
   },
   "outputs": [],
   "source": [
    "sample <- c(3.088, 3.544, 5.014, 0.386, 1.448,\n",
    "           1.749, 1.398, 2.255, 4.084, 0.673, \n",
    "           4.085, 0.625, 4.899, 0.615, 4.029,\n",
    "           1.906, 2.094, 1.726, 0.388, 6.589,\n",
    "           0.782, 3.807, 1.552, 1.955, 2.434,\n",
    "           3.683, 1.617, 1.811, 0.989, 4.388,\n",
    "           1.706, 0.969, 0.524, 2.206, 2.955, \n",
    "           6.445, 0.81, 0.98, 6.407, 2.01,\n",
    "           2.431, 0.748, 0.041, 1.019, 1.709, \n",
    "           1.418, 1.535, 2.068, 1.18, 1.064)\n",
    "\n",
    "# Question 1 :\n",
    "# ------------\n",
    "\n",
    "sprintf(\"mean = %f\", mean(sample))\n",
    "sprintf(\"standard deviation (unbiased) = %f\", sd(sample))\n",
    "n <- length(sample)\n",
    "sprintf(\"standard deviation (biased) = %f\", sd(sample)*sqrt((n-1)/n))\n",
    "\n",
    "# Question 2 :\n",
    "# ------------\n",
    "\n",
    "library(moments)\n",
    "sprintf(\"skewness = %f\", skewness(sample))\n",
    "sprintf(\"kurtosis = %f\", kurtosis(sample))\n",
    "\n",
    "# Question 3 (cf livre B. Clement) : \n",
    "# ----------------------------------\n",
    "#\n",
    "#  -> histogramme centré sur 2.23 cm qui s'etire sur la droite et assez piquée\n",
    "\n",
    "# Question 4 :\n",
    "# ------------\n",
    "\n",
    "library(repr)\n",
    "options(repr.plot.width=9, repr.plot.height=3)\n",
    "\n",
    "# This function computes the number of bins and maxval of the histogram\n",
    "myfunction <- function(sample, binWidth){\n",
    "    max(sample)\n",
    "    max(sample)/w\n",
    "    nBins <- ceiling(max(sample)/w)\n",
    "    maxVal <- nBins*w\n",
    "    return(c(nBins, maxVal))\n",
    "}\n",
    "\n",
    "# This splits the graphics window into 3 pads\n",
    "par(mfrow = c(1, 3))\n",
    "\n",
    "w <- 3\n",
    "res <- myfunction(sample, w)\n",
    "h1 <- hist(sample, breaks=seq(0, res[2], length.out=res[1]+1))\n",
    "h1$breaks\n",
    "h1$counts\n",
    "\n",
    "w <- 1.2\n",
    "res <- myfunction(sample, w)\n",
    "h2 <- hist(sample, breaks=seq(0, res[2], length.out=res[1]+1))\n",
    "h2$breaks\n",
    "h2$counts\n",
    "\n",
    "w <- 0.3\n",
    "res <- myfunction(sample, w)\n",
    "h3 <- hist(sample, breaks=seq(0, res[2], length.out=res[1]+1))\n",
    "h3$breaks\n",
    "h3$counts\n",
    "\n",
    "# Question 5 :\n",
    "# ------------\n",
    "\n",
    "# First, let's see what quantities are available for each histogram:\n",
    "h1\n",
    "\n",
    "# Now do the calculation\n",
    "meanh1 <- 1/n*sum(h1$counts*h1$mids)\n",
    "meanh1\n",
    "meanh2 <- 1/n*sum(h2$counts*h2$mids)\n",
    "meanh2\n",
    "meanh3 <- 1/n*sum(h3$counts*h3$mids)\n",
    "meanh3\n",
    "\n",
    "sdh1 <- sqrt(1/n*sum(h1$counts*(h1$mids-meanh1)^2))\n",
    "sdh1\n",
    "sdh2 <- sqrt(1/n*sum(h2$counts*(h2$mids-meanh2)^2))\n",
    "sdh2\n",
    "sdh3 <- sqrt(1/n*sum(h3$counts*(h3$mids-meanh3)^2))\n",
    "sdh3\n",
    "\n",
    "# Question 6 :\n",
    "# ------------\n",
    "\n",
    "# From sample\n",
    "medianSample <- median(sample)\n",
    "medianSample"
   ]
  },
  {
   "cell_type": "markdown",
   "metadata": {
    "collapsed": true,
    "hideCode": false,
    "hidePrompt": false
   },
   "source": [
    "# Régression linéaire (source : livre B. Clément p. 28)\n",
    "\n",
    "Lors d'une séance de travaux pratiques, les étudiants doivent mesurer la valeur d'une résistance. Pour mesurer la valeur de la résistance, chaque étudiant dispose d'un voltmètre, d'un ampèremètre et d'un générateur de tension variable. Chacun mesure le courant et la tension pour cinq réglages différents du générateur. Un étudiant a obtenu les résultats suivants :\n",
    "\n",
    "Mesure (U en V, I en mA) : (0.204; 1.05), (1.23; 2.72), (2.04; 5.02), (3.48; 6.59), (4.93; 10.9)\n",
    "\n",
    "1. Déterminez les coefficients de la droite de régression $U=aI+b$. En déduire la valeur de $R$. \n",
    "2. Refaites le calcul de la régression linéaire en forcant $b=0$.\n",
    "3. Quel résultat obtiendrait-on en ajustant $I=a'U + b'$ ?"
   ]
  },
  {
   "cell_type": "code",
   "execution_count": null,
   "metadata": {
    "hideCode": false,
    "hidePrompt": false
   },
   "outputs": [],
   "source": [
    "U <- c(0.204, 1.23, 2.04, 3.48, 4.83)\n",
    "I <- c(1.05, 2.72, 5.02, 6.59, 10.9)\n",
    "I <- I*1e-3\n",
    "options(repr.plot.width=5, repr.plot.height=4)\n",
    "plot(I, U)\n",
    "\n",
    "n <- length(U)\n",
    "\n",
    "# Question 1 :\n",
    "a <- (n*sum(U*I)-sum(U)*sum(I))/(n*sum(I^2) - sum(I)^2)\n",
    "a\n",
    "b <- 1/n*(sum(U)-a*sum(I))\n",
    "b\n",
    "r <- a*sd(I)/sd(U)\n",
    "r^2\n",
    "\n",
    "# Question 2 :\n",
    "a2 <- sum(U*I)/sum(I^2)\n",
    "a2\n",
    "\n",
    "# Question 3 : \n",
    "a3 <- (n*sum(U*I)-sum(U)*sum(I))/(n*sum(U^2) - sum(U)^2)\n",
    "a3\n",
    "b3 <- 1/n*(sum(I)-a3*sum(U))\n",
    "b3\n",
    "1/a3"
   ]
  },
  {
   "cell_type": "markdown",
   "metadata": {
    "hideCode": false,
    "hidePrompt": false
   },
   "source": [
    "# Différence entre régression linéaire et méthode des moindres carrés (source : livre B. Clément p. 98)\n",
    "\n",
    "Considérons les quatres points de mesure suivant :\n",
    "\n",
    "$$x_i = (1, 2.2, 3.5, 5)$$\n",
    "$$y_i = (1, 10, 3, 25)$$\n",
    "$$\\Delta y_i = (0.5, 2, 10, 1.2)$$\n",
    "\n",
    "1. Trouver la fonction qui ajuste au mieux ces points par régression linéaire.\n",
    "2. Trouver la fonction qui ajuste au mieux ces points par la méthode des moindres carrés.\n",
    "3. Commenter les différences."
   ]
  },
  {
   "cell_type": "code",
   "execution_count": 24,
   "metadata": {
    "hideCode": false,
    "hidePrompt": false
   },
   "outputs": [
    {
     "data": {
      "text/plain": [
       "\n",
       "Call:\n",
       "lm(formula = y ~ x, data = ds)\n",
       "\n",
       "Residuals:\n",
       "     1      2      3      4 \n",
       " 0.894  3.882 -9.631  4.855 \n",
       "\n",
       "Coefficients:\n",
       "            Estimate Std. Error t value Pr(>|t|)\n",
       "(Intercept)   -4.904      8.961  -0.547    0.639\n",
       "x              5.010      2.730   1.835    0.208\n",
       "\n",
       "Residual standard error: 8.13 on 2 degrees of freedom\n",
       "Multiple R-squared:  0.6274,\tAdjusted R-squared:  0.4411 \n",
       "F-statistic: 3.367 on 1 and 2 DF,  p-value: 0.2079\n"
      ]
     },
     "metadata": {},
     "output_type": "display_data"
    },
    {
     "data": {
      "text/html": [
       "0.7920737777257"
      ],
      "text/latex": [
       "0.7920737777257"
      ],
      "text/markdown": [
       "0.7920737777257"
      ],
      "text/plain": [
       "[1] 0.7920738"
      ]
     },
     "metadata": {},
     "output_type": "display_data"
    },
    {
     "data": {
      "text/plain": [
       "\n",
       "Call:\n",
       "lm(formula = y ~ x, data = ds, weights = 1/dy^2)\n",
       "\n",
       "Weighted Residuals:\n",
       "      1       2       3       4 \n",
       "-0.1273  0.8673 -1.3067 -0.0581 \n",
       "\n",
       "Coefficients:\n",
       "            Estimate Std. Error t value Pr(>|t|)   \n",
       "(Intercept)  -4.9379     0.7695  -6.417  0.02343 * \n",
       "x             6.0015     0.3595  16.693  0.00357 **\n",
       "---\n",
       "Signif. codes:  0 ‘***’ 0.001 ‘**’ 0.01 ‘*’ 0.05 ‘.’ 0.1 ‘ ’ 1\n",
       "\n",
       "Residual standard error: 1.113 on 2 degrees of freedom\n",
       "Multiple R-squared:  0.9929,\tAdjusted R-squared:  0.9893 \n",
       "F-statistic: 278.7 on 1 and 2 DF,  p-value: 0.00357\n"
      ]
     },
     "metadata": {},
     "output_type": "display_data"
    },
    {
     "data": {
      "image/png": "[encoded data removed]",
      "text/plain": [
       "plot without title"
      ]
     },
     "metadata": {},
     "output_type": "display_data"
    }
   ],
   "source": [
    "x = c(1, 2.2, 3.5, 5)\n",
    "y = c(1, 10, 3, 25)\n",
    "dy = c(0.5, 2, 10, 1.2)\n",
    "\n",
    "options(repr.plot.width=4, repr.plot.height=4)\n",
    "plot(x, y, ylim=c(-11, 30), xlim=c(0, 6), cex=0.5)\n",
    "arrows(x, y-dy, x, y+dy, angle=90, code=3, length=0.05)\n",
    "grid()       \n",
    "\n",
    "ds <- data.frame(x = x, y = y, dy = dy)\n",
    "\n",
    "# Linear regression\n",
    "model = lm(y~x, data=ds)\n",
    "summary(model)\n",
    "rsq = summary(model)$r.squared\n",
    "sqrt(rsq)\n",
    "abline(model)\n",
    "\n",
    "model2 = lm(y~x, data=ds, weights=1/dy^2)\n",
    "summary(model2)\n",
    "abline(model2, lty=2)"
   ]
  },
  {
   "cell_type": "code",
   "execution_count": null,
   "metadata": {
    "collapsed": true,
    "hideCode": false,
    "hidePrompt": false
   },
   "outputs": [],
   "source": []
  }
 ],
 "metadata": {
  "celltoolbar": "Hide code",
  "hide_code_all_hidden": false,
  "kernelspec": {
   "display_name": "R",
   "language": "R",
   "name": "ir"
  },
  "language_info": {
   "codemirror_mode": "r",
   "file_extension": ".r",
   "mimetype": "text/x-r-source",
   "name": "R",
   "pygments_lexer": "r",
   "version": "3.3.2"
  }
 },
 "nbformat": 4,
 "nbformat_minor": 2
}
