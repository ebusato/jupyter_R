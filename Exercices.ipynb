{
 "cells": [
  {
   "cell_type": "markdown",
   "metadata": {
    "hideCode": true,
    "hidePrompt": true
   },
   "source": [
    "<center>\n",
    "<font size=\"5\"> <b>Exercices de statistique avec R</b></font>\n",
    "</center>\n",
    "\n",
    "### Exercice (taken from [here](http://www.real-statistics.com/students-t-distribution/one-sample-t-test/)):\n",
    "\n",
    "Un programme de reduction de poids prétend réduire l'obésité. Pour le vérifier, le programme est appliqué à 12 personnes et la variation de poids pour chacun d'eux est mesurée après 2 ans. La perte de poids pour chaque personne est donnée dans la table ci-dessous (les valeurs négatives indiquent un gain de poids à l'issu du programme).\n",
    "Peut-on conclure de ces résultats que le programme réduit bien l'obésité ?\n",
    "\n",
    "| Subject | Weight loss |\n",
    "|---------|-------------|\n",
    "| 1       | 23          |\n",
    "| 2       | 15          |\n",
    "| 3       | -5          |\n",
    "| 4       | 7           |\n",
    "| 5       | 1           |\n",
    "| 6       | -10         |\n",
    "| 7       | 12          |\n",
    "| 8       | -8          |\n",
    "| 9       | 20          |\n",
    "| 10      | 8           |\n",
    "| 11      | -2          |\n",
    "| 12      | -5          |"
   ]
  },
  {
   "cell_type": "code",
   "execution_count": 5,
   "metadata": {
    "hideCode": true,
    "hideOutput": true,
    "hidePrompt": true
   },
   "outputs": [
    {
     "data": {
      "text/html": [
       "12"
      ],
      "text/latex": [
       "12"
      ],
      "text/markdown": [
       "12"
      ],
      "text/plain": [
       "[1] 12"
      ]
     },
     "metadata": {},
     "output_type": "display_data"
    },
    {
     "data": {
      "text/html": [
       "4.66666666666667"
      ],
      "text/latex": [
       "4.66666666666667"
      ],
      "text/markdown": [
       "4.66666666666667"
      ],
      "text/plain": [
       "[1] 4.666667"
      ]
     },
     "metadata": {},
     "output_type": "display_data"
    },
    {
     "data": {
      "text/html": [
       "11.1545615074839"
      ],
      "text/latex": [
       "11.1545615074839"
      ],
      "text/markdown": [
       "11.1545615074839"
      ],
      "text/plain": [
       "[1] 11.15456"
      ]
     },
     "metadata": {},
     "output_type": "display_data"
    },
    {
     "data": {
      "text/html": [
       "3.22004454451905"
      ],
      "text/latex": [
       "3.22004454451905"
      ],
      "text/markdown": [
       "3.22004454451905"
      ],
      "text/plain": [
       "[1] 3.220045"
      ]
     },
     "metadata": {},
     "output_type": "display_data"
    },
    {
     "data": {
      "text/html": [
       "1.44925531375334"
      ],
      "text/latex": [
       "1.44925531375334"
      ],
      "text/markdown": [
       "1.44925531375334"
      ],
      "text/plain": [
       "[1] 1.449255"
      ]
     },
     "metadata": {},
     "output_type": "display_data"
    },
    {
     "data": {
      "text/html": [
       "1.79588481870404"
      ],
      "text/latex": [
       "1.79588481870404"
      ],
      "text/markdown": [
       "1.79588481870404"
      ],
      "text/plain": [
       "[1] 1.795885"
      ]
     },
     "metadata": {},
     "output_type": "display_data"
    },
    {
     "data": {
      "text/html": [
       "0.0875847277942856"
      ],
      "text/latex": [
       "0.0875847277942856"
      ],
      "text/markdown": [
       "0.0875847277942856"
      ],
      "text/plain": [
       "[1] 0.08758473"
      ]
     },
     "metadata": {},
     "output_type": "display_data"
    },
    {
     "data": {
      "text/plain": [
       "\n",
       "\tOne Sample t-test\n",
       "\n",
       "data:  sample\n",
       "t = 1.4493, df = 11, p-value = 0.08758\n",
       "alternative hypothesis: true mean is greater than 0\n",
       "95 percent confidence interval:\n",
       " -1.116162       Inf\n",
       "sample estimates:\n",
       "mean of x \n",
       " 4.666667 \n"
      ]
     },
     "metadata": {},
     "output_type": "display_data"
    },
    {
     "name": "stdout",
     "output_type": "stream",
     "text": [
      "[1] \"Conclusion: the weight loss is, at the 95% CL, not different from 0.\"\n"
     ]
    },
    {
     "data": {
      "image/png": "[encoded data removed]",
      "text/plain": [
       "plot without title"
      ]
     },
     "metadata": {},
     "output_type": "display_data"
    }
   ],
   "source": [
    "sample = c(23, 15, -5, 7, 1, -10, 12, -8, 20, 8, -2, -5)\n",
    "\n",
    "n = length(sample)\n",
    "m = mean(sample)\n",
    "sigma = sd(sample)\n",
    "err = sigma/sqrt(n)\n",
    "n\n",
    "m\n",
    "sigma\n",
    "err\n",
    "mu = 0\n",
    "t = (m-mu)/err\n",
    "t\n",
    "alpha = 0.05\n",
    "tcrit = qt(1-alpha, n-1)\n",
    "tcrit\n",
    "pvalue = 1 - pt(t, n-1)\n",
    "pvalue\n",
    "\n",
    "# Or use right away the redefined R functionalities\n",
    "t.test(sample, mu=0, alternative=\"greater\")\n",
    "\n",
    "# Empirical verifications of assumptions\n",
    "options(repr.plot.width=4, repr.plot.height=4)\n",
    "boxplot(sample)\n",
    "grid()\n",
    "\n",
    "print(\"Conclusion: the weight loss is, at the 95% CL, not different from 0.\")"
   ]
  },
  {
   "cell_type": "markdown",
   "metadata": {
    "hideCode": true,
    "hideOutput": false,
    "hidePrompt": true
   },
   "source": [
    "### Exercice 2 (taken from [here](http://www.real-statistics.com/students-t-distribution/one-sample-t-test/)): \n",
    "\n",
    "Il y a 30 ans, la note moyenne des étudiants dans une promotion était de 78 sur 100. Afin de voir si la note moyenne a  évoluée en 30 ans, un test est réalisé cette année sur 40 étudiants. Les notes obtenues sont les suivantes :\n",
    "\n",
    "|    |    |    |    |\n",
    "|----|----|----|----|\n",
    "| 63 | 58 | 76 | 59 |\n",
    "| 95 | 84 | 83 | 68 |\n",
    "| 81 | 90 | 87 | 45 |\n",
    "| 75 | 38 | 54 | 52 |\n",
    "| 90 | 100 | 45 | 76 | \n",
    "| 64 | 80 | 58 | 78 | \n",
    "| 45 | 68 | 64 | 50 |\n",
    "| 59 | 49 | 63 | 75 | \n",
    "| 72 | 68 | 92 | 64 |\n",
    "| 35 | 60 | 87 | 86 |\n",
    "\n",
    "Peut-on dire que la note moyenne a changée en 30 ans ? (Dans ce cas on considère les variations à la baisse et à la hausse, on réalise donc un test bilatéral)"
   ]
  },
  {
   "cell_type": "code",
   "execution_count": null,
   "metadata": {
    "hideCode": true,
    "hideOutput": true,
    "hidePrompt": true
   },
   "outputs": [],
   "source": [
    "sample = c(63, 58, 76, 59,\n",
    "           95, 84, 83, 68,\n",
    "           81, 90, 87, 45,\n",
    "           75, 38, 54, 52,\n",
    "           90, 100, 45, 76, \n",
    "           64, 80, 58, 78, \n",
    "           45, 68, 64, 50,\n",
    "           59, 49, 63, 75, \n",
    "           72, 68, 92, 64,\n",
    "           35, 60, 87, 86)\n",
    "options(repr.plot.width=8, repr.plot.height=4)\n",
    "par(mfrow = c(1, 2))\n",
    "hist(sample, breaks=20)\n",
    "boxplot(sample)\n",
    "grid()\n",
    "\n",
    "n = length(sample)\n",
    "t = (mean(sample) - 78)/(sd(sample)/sqrt(n))\n",
    "t\n",
    "pvalue = pt(t, n-1)*2 # probability on left-side tail, as the observed value of the test is negative\n",
    "pvalue"
   ]
  }
 ],
 "metadata": {
  "celltoolbar": "Hide code",
  "hide_code_all_hidden": true,
  "kernelspec": {
   "display_name": "R",
   "language": "R",
   "name": "ir"
  },
  "language_info": {
   "codemirror_mode": "r",
   "file_extension": ".r",
   "mimetype": "text/x-r-source",
   "name": "R",
   "pygments_lexer": "r",
   "version": "3.3.2"
  }
 },
 "nbformat": 4,
 "nbformat_minor": 2
}
