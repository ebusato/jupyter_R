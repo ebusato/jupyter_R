{
 "cells": [
  {
   "cell_type": "markdown",
   "metadata": {
    "hideCode": false,
    "hidePrompt": false
   },
   "source": [
    "<center>\n",
    "<font size=\"5\"> <b>Exercices de statistique avec R</b></font>\n",
    "</center>\n",
    "\n",
    "__Exercice 1 (taken from [here](http://www.real-statistics.com/students-t-distribution/one-sample-t-test/)):__ A weight reduction program claims to be effective in treating obesity. To test this claim 12 people were put on the program and the number of pounds of weight gain/loss was recorded for each person after two years, as shown in columns A and B of Figure 1. Can we conclude that the program is effective?\n",
    "\n",
    "| Subject | Weight loss |\n",
    "|---------|-------------|\n",
    "| 1       | 23          |\n",
    "| 2       | 15          |\n",
    "| 3       | -5          |\n",
    "| 4       | 7           |\n",
    "| 5       | 1           |\n",
    "| 6       | -10         |\n",
    "| 7       | 12          |\n",
    "| 8       | -8          |\n",
    "| 9       | 20          |\n",
    "| 10      | 8           |\n",
    "| 11      | -2          |\n",
    "| 12      | -5          |"
   ]
  },
  {
   "cell_type": "code",
   "execution_count": null,
   "metadata": {
    "hideCode": true,
    "hideOutput": true,
    "hidePrompt": true
   },
   "outputs": [],
   "source": [
    "sample = c(23, 15, -5, 7, 1, -10, 12, -8, 20, 8, -2, -5)\n",
    "\n",
    "n = length(sample)\n",
    "m = mean(sample)\n",
    "sigma = sd(sample)\n",
    "err = sigma/sqrt(n)\n",
    "n\n",
    "m\n",
    "sigma\n",
    "err\n",
    "mu = 0\n",
    "t = (m-mu)/err\n",
    "t\n",
    "alpha = 0.05\n",
    "tcrit = qt(1-alpha, n-1)\n",
    "tcrit\n",
    "pvalue = 1 - pt(t, n-1)\n",
    "pvalue\n",
    "\n",
    "# Or use right away the redefined R functionalities\n",
    "t.test(sample, mu=0, alternative=\"greater\")\n",
    "\n",
    "# Empirical verifications of assumptions\n",
    "options(repr.plot.width=4, repr.plot.height=4)\n",
    "boxplot(sample)\n",
    "grid()\n",
    "\n",
    "# Conclusion: the weight loss is, at the 95% CL, not different from 0."
   ]
  },
  {
   "cell_type": "markdown",
   "metadata": {
    "hideCode": false,
    "hideOutput": false,
    "hidePrompt": false
   },
   "source": [
    "__Exercice 2 (taken from [here](http://www.real-statistics.com/students-t-distribution/one-sample-t-test/)):__ A school board wanted to see if reading test scores have changed in the past 30 years by testing a random sample of 40 students to see whether there is a significant change from the average score of 78 thirty years ago. The scores of the sample are as follows:\n",
    "\n",
    "|    |    |    |    |\n",
    "|----|----|----|----|\n",
    "| 63 | 58 | 76 | 59 |\n",
    "| 95 | 84 | 83 | 68 |\n",
    "| 81 | 90 | 87 | 45 |\n",
    "| 75 | 38 | 54 | 52 |\n",
    "| 90 | 100 | 45 | 76 | \n",
    "| 64 | 80 | 58 | 78 | \n",
    "| 45 | 68 | 64 | 50 |\n",
    "| 59 | 49 | 63 | 75 | \n",
    "| 72 | 68 | 92 | 64 |\n",
    "| 35 | 60 | 87 | 86 |\n",
    "\n",
    "Based on this data, can we claim that the reading scores have changed in the past 30 years? (This time we perform a two-sided test)"
   ]
  },
  {
   "cell_type": "code",
   "execution_count": null,
   "metadata": {
    "hideCode": true,
    "hideOutput": true,
    "hidePrompt": true
   },
   "outputs": [],
   "source": [
    "sample = c(63, 58, 76, 59,\n",
    "           95, 84, 83, 68,\n",
    "           81, 90, 87, 45,\n",
    "           75, 38, 54, 52,\n",
    "           90, 100, 45, 76, \n",
    "           64, 80, 58, 78, \n",
    "           45, 68, 64, 50,\n",
    "           59, 49, 63, 75, \n",
    "           72, 68, 92, 64,\n",
    "           35, 60, 87, 86)\n",
    "options(repr.plot.width=8, repr.plot.height=4)\n",
    "par(mfrow = c(1, 2))\n",
    "hist(sample, breaks=20)\n",
    "boxplot(sample)\n",
    "grid()\n",
    "\n",
    "n = length(sample)\n",
    "t = (mean(sample) - 78)/(sd(sample)/sqrt(n))\n",
    "t\n",
    "pvalue = pt(t, n-1)*2 # probability on left-side tail, as the observed value of the test is negative\n",
    "pvalue"
   ]
  }
 ],
 "metadata": {
  "celltoolbar": "Hide code",
  "hide_code_all_hidden": false,
  "kernelspec": {
   "display_name": "R",
   "language": "R",
   "name": "ir"
  },
  "language_info": {
   "codemirror_mode": "r",
   "file_extension": ".r",
   "mimetype": "text/x-r-source",
   "name": "R",
   "pygments_lexer": "r",
   "version": "3.3.2"
  }
 },
 "nbformat": 4,
 "nbformat_minor": 2
}
