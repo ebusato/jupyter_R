{
 "cells": [
  {
   "cell_type": "markdown",
   "metadata": {},
   "source": [
    "# In the notebook we illustrate the measurement of $g$ \n",
    "\n",
    "First, we start by generating a pseudo dataset"
   ]
  },
  {
   "cell_type": "code",
   "execution_count": 10,
   "metadata": {},
   "outputs": [
    {
     "data": {
      "text/html": [
       "<table>\n",
       "<thead><tr><th scope=col>t</th><th scope=col>x</th></tr></thead>\n",
       "<tbody>\n",
       "\t<tr><td> 0.000000 </td><td>  55.97295</td></tr>\n",
       "\t<tr><td> 1.052632 </td><td>  60.24481</td></tr>\n",
       "\t<tr><td> 2.105263 </td><td>  76.80447</td></tr>\n",
       "\t<tr><td> 3.157895 </td><td>  88.16154</td></tr>\n",
       "\t<tr><td> 4.210526 </td><td> 121.13417</td></tr>\n",
       "\t<tr><td> 5.263158 </td><td> 195.92788</td></tr>\n",
       "\t<tr><td> 6.315789 </td><td> 249.58183</td></tr>\n",
       "\t<tr><td> 7.368421 </td><td> 318.65717</td></tr>\n",
       "\t<tr><td> 8.421053 </td><td> 399.96236</td></tr>\n",
       "\t<tr><td> 9.473684 </td><td> 479.96346</td></tr>\n",
       "\t<tr><td>10.526316 </td><td> 601.34868</td></tr>\n",
       "\t<tr><td>11.578947 </td><td> 711.50808</td></tr>\n",
       "\t<tr><td>12.631579 </td><td> 827.15295</td></tr>\n",
       "\t<tr><td>13.684211 </td><td> 962.08309</td></tr>\n",
       "\t<tr><td>14.736842 </td><td>1117.84498</td></tr>\n",
       "\t<tr><td>15.789474 </td><td>1266.88450</td></tr>\n",
       "\t<tr><td>16.842105 </td><td>1436.98195</td></tr>\n",
       "\t<tr><td>17.894737 </td><td>1628.18656</td></tr>\n",
       "\t<tr><td>18.947368 </td><td>1810.97518</td></tr>\n",
       "\t<tr><td>20.000000 </td><td>2005.07866</td></tr>\n",
       "</tbody>\n",
       "</table>\n"
      ],
      "text/latex": [
       "\\begin{tabular}{r|ll}\n",
       " t & x\\\\\n",
       "\\hline\n",
       "\t  0.000000  &   55.97295\\\\\n",
       "\t  1.052632  &   60.24481\\\\\n",
       "\t  2.105263  &   76.80447\\\\\n",
       "\t  3.157895  &   88.16154\\\\\n",
       "\t  4.210526  &  121.13417\\\\\n",
       "\t  5.263158  &  195.92788\\\\\n",
       "\t  6.315789  &  249.58183\\\\\n",
       "\t  7.368421  &  318.65717\\\\\n",
       "\t  8.421053  &  399.96236\\\\\n",
       "\t  9.473684  &  479.96346\\\\\n",
       "\t 10.526316  &  601.34868\\\\\n",
       "\t 11.578947  &  711.50808\\\\\n",
       "\t 12.631579  &  827.15295\\\\\n",
       "\t 13.684211  &  962.08309\\\\\n",
       "\t 14.736842  & 1117.84498\\\\\n",
       "\t 15.789474  & 1266.88450\\\\\n",
       "\t 16.842105  & 1436.98195\\\\\n",
       "\t 17.894737  & 1628.18656\\\\\n",
       "\t 18.947368  & 1810.97518\\\\\n",
       "\t 20.000000  & 2005.07866\\\\\n",
       "\\end{tabular}\n"
      ],
      "text/markdown": [
       "\n",
       "t | x | \n",
       "|---|---|---|---|---|---|---|---|---|---|---|---|---|---|---|---|---|---|---|---|\n",
       "|  0.000000  |   55.97295 | \n",
       "|  1.052632  |   60.24481 | \n",
       "|  2.105263  |   76.80447 | \n",
       "|  3.157895  |   88.16154 | \n",
       "|  4.210526  |  121.13417 | \n",
       "|  5.263158  |  195.92788 | \n",
       "|  6.315789  |  249.58183 | \n",
       "|  7.368421  |  318.65717 | \n",
       "|  8.421053  |  399.96236 | \n",
       "|  9.473684  |  479.96346 | \n",
       "| 10.526316  |  601.34868 | \n",
       "| 11.578947  |  711.50808 | \n",
       "| 12.631579  |  827.15295 | \n",
       "| 13.684211  |  962.08309 | \n",
       "| 14.736842  | 1117.84498 | \n",
       "| 15.789474  | 1266.88450 | \n",
       "| 16.842105  | 1436.98195 | \n",
       "| 17.894737  | 1628.18656 | \n",
       "| 18.947368  | 1810.97518 | \n",
       "| 20.000000  | 2005.07866 | \n",
       "\n",
       "\n"
      ],
      "text/plain": [
       "   t         x         \n",
       "1   0.000000   55.97295\n",
       "2   1.052632   60.24481\n",
       "3   2.105263   76.80447\n",
       "4   3.157895   88.16154\n",
       "5   4.210526  121.13417\n",
       "6   5.263158  195.92788\n",
       "7   6.315789  249.58183\n",
       "8   7.368421  318.65717\n",
       "9   8.421053  399.96236\n",
       "10  9.473684  479.96346\n",
       "11 10.526316  601.34868\n",
       "12 11.578947  711.50808\n",
       "13 12.631579  827.15295\n",
       "14 13.684211  962.08309\n",
       "15 14.736842 1117.84498\n",
       "16 15.789474 1266.88450\n",
       "17 16.842105 1436.98195\n",
       "18 17.894737 1628.18656\n",
       "19 18.947368 1810.97518\n",
       "20 20.000000 2005.07866"
      ]
     },
     "metadata": {},
     "output_type": "display_data"
    },
    {
     "data": {
      "image/png": "[encoded data removed]",
      "text/plain": [
       "plot without title"
      ]
     },
     "metadata": {},
     "output_type": "display_data"
    }
   ],
   "source": [
    "Npoints = 20\n",
    "x0 = 50\n",
    "\n",
    "g = 9.81\n",
    "t = seq(0, 20, length=Npoints)\n",
    "x = 0.5*g*t^2 + x0 + rnorm(Npoints, mean=0, sd=8)\n",
    "plot(t, x)\n",
    "ds = data.frame(t, x)\n",
    "ds\n",
    "write.csv(ds, \"PositionVsTime.csv\")"
   ]
  },
  {
   "cell_type": "code",
   "execution_count": 11,
   "metadata": {},
   "outputs": [
    {
     "data": {
      "text/html": [
       "<strong>mytSq:</strong> 9.79472142768316"
      ],
      "text/latex": [
       "\\textbf{mytSq:} 9.79472142768316"
      ],
      "text/markdown": [
       "**mytSq:** 9.79472142768316"
      ],
      "text/plain": [
       "   mytSq \n",
       "9.794721 "
      ]
     },
     "metadata": {},
     "output_type": "display_data"
    },
    {
     "data": {
      "image/png": "[encoded data removed]",
      "text/plain": [
       "plot without title"
      ]
     },
     "metadata": {},
     "output_type": "display_data"
    }
   ],
   "source": [
    "myds = read.csv(\"PositionVsTime.csv\")\n",
    "#myds\n",
    "\n",
    "myx = myds$x\n",
    "mytSq = myds$t^2\n",
    "\n",
    "options(repr.plot.width=8, repr.plot.height=4)\n",
    "\n",
    "plot(myx ~ mytSq)\n",
    "model <- lm(myx~mytSq, data=myds)\n",
    "coefs = coefficients(model)\n",
    "coefs[2]*2"
   ]
  },
  {
   "cell_type": "code",
   "execution_count": null,
   "metadata": {
    "collapsed": true
   },
   "outputs": [],
   "source": []
  },
  {
   "cell_type": "code",
   "execution_count": null,
   "metadata": {
    "collapsed": true
   },
   "outputs": [],
   "source": []
  }
 ],
 "metadata": {
  "kernelspec": {
   "display_name": "R",
   "language": "R",
   "name": "ir"
  },
  "language_info": {
   "codemirror_mode": "r",
   "file_extension": ".r",
   "mimetype": "text/x-r-source",
   "name": "R",
   "pygments_lexer": "r",
   "version": "3.3.2"
  }
 },
 "nbformat": 4,
 "nbformat_minor": 2
}
