{
 "cells": [
  {
   "cell_type": "markdown",
   "metadata": {},
   "source": [
    "The following two exercices are taken from: http://www.real-statistics.com/students-t-distribution/one-sample-t-test/\n",
    "\n",
    "__Exercice 1:__ A weight reduction program claims to be effective in treating obesity. To test this claim 12 people were put on the program and the number of pounds of weight gain/loss was recorded for each person after two years, as shown in columns A and B of Figure 1. Can we conclude that the program is effective?\n",
    "\n",
    "| Subject | Weight loss |\n",
    "|---------|-------------|\n",
    "| 1       | 23          |\n",
    "| 2       | 15          |\n",
    "| 3       | -5          |\n",
    "| 4       | 7           |\n",
    "| 5       | 1           |\n",
    "| 6       | -10         |\n",
    "| 7       | 12          |\n",
    "| 8       | -8          |\n",
    "| 9       | 20          |\n",
    "| 10      | 8           |\n",
    "| 11      | -2          |\n",
    "| 12      | -5          |"
   ]
  },
  {
   "cell_type": "code",
   "execution_count": 20,
   "metadata": {},
   "outputs": [
    {
     "data": {
      "text/html": [
       "12"
      ],
      "text/latex": [
       "12"
      ],
      "text/markdown": [
       "12"
      ],
      "text/plain": [
       "[1] 12"
      ]
     },
     "metadata": {},
     "output_type": "display_data"
    },
    {
     "data": {
      "text/html": [
       "4.66666666666667"
      ],
      "text/latex": [
       "4.66666666666667"
      ],
      "text/markdown": [
       "4.66666666666667"
      ],
      "text/plain": [
       "[1] 4.666667"
      ]
     },
     "metadata": {},
     "output_type": "display_data"
    },
    {
     "data": {
      "text/html": [
       "11.1545615074839"
      ],
      "text/latex": [
       "11.1545615074839"
      ],
      "text/markdown": [
       "11.1545615074839"
      ],
      "text/plain": [
       "[1] 11.15456"
      ]
     },
     "metadata": {},
     "output_type": "display_data"
    },
    {
     "data": {
      "text/html": [
       "3.22004454451905"
      ],
      "text/latex": [
       "3.22004454451905"
      ],
      "text/markdown": [
       "3.22004454451905"
      ],
      "text/plain": [
       "[1] 3.220045"
      ]
     },
     "metadata": {},
     "output_type": "display_data"
    },
    {
     "data": {
      "text/html": [
       "1.44925531375334"
      ],
      "text/latex": [
       "1.44925531375334"
      ],
      "text/markdown": [
       "1.44925531375334"
      ],
      "text/plain": [
       "[1] 1.449255"
      ]
     },
     "metadata": {},
     "output_type": "display_data"
    },
    {
     "data": {
      "text/html": [
       "1.79588481870404"
      ],
      "text/latex": [
       "1.79588481870404"
      ],
      "text/markdown": [
       "1.79588481870404"
      ],
      "text/plain": [
       "[1] 1.795885"
      ]
     },
     "metadata": {},
     "output_type": "display_data"
    },
    {
     "data": {
      "text/html": [
       "0.0875847277942856"
      ],
      "text/latex": [
       "0.0875847277942856"
      ],
      "text/markdown": [
       "0.0875847277942856"
      ],
      "text/plain": [
       "[1] 0.08758473"
      ]
     },
     "metadata": {},
     "output_type": "display_data"
    },
    {
     "data": {
      "text/plain": [
       "\n",
       "\tOne Sample t-test\n",
       "\n",
       "data:  sample\n",
       "t = 1.4493, df = 11, p-value = 0.08758\n",
       "alternative hypothesis: true mean is greater than 0\n",
       "95 percent confidence interval:\n",
       " -1.116162       Inf\n",
       "sample estimates:\n",
       "mean of x \n",
       " 4.666667 \n"
      ]
     },
     "metadata": {},
     "output_type": "display_data"
    },
    {
     "data": {
      "image/png": "[encoded data removed]",
      "text/plain": [
       "plot without title"
      ]
     },
     "metadata": {},
     "output_type": "display_data"
    }
   ],
   "source": [
    "sample = c(23, 15, -5, 7, 1, -10, 12, -8, 20, 8, -2, -5)\n",
    "\n",
    "n = length(sample)\n",
    "m = mean(sample)\n",
    "sigma = sd(sample)\n",
    "err = sigma/sqrt(n)\n",
    "n\n",
    "m\n",
    "sigma\n",
    "err\n",
    "mu = 0\n",
    "t = (m-mu)/err\n",
    "t\n",
    "alpha = 0.05\n",
    "tcrit = qt(1-alpha, n-1)\n",
    "tcrit\n",
    "pvalue = 1 - pt(t, n-1)\n",
    "pvalue\n",
    "\n",
    "# Or use right away the redefined R functionalities\n",
    "t.test(sample, mu=0, alternative=\"greater\")\n",
    "\n",
    "# Empirical verifications of assumptions\n",
    "options(repr.plot.width=4, repr.plot.height=4)\n",
    "boxplot(sample)\n",
    "grid()"
   ]
  },
  {
   "cell_type": "markdown",
   "metadata": {},
   "source": [
    "Conclusion: the weight loss is, at the 95% CL, not different from 0.\n",
    "\n",
    "__Exercice 2:__ A school board wanted to see if reading test scores have changed in the past 30 years by testing a random sample of 40 students to see whether there is a significant change from the average score of 78 thirty years ago. The scores of the sample are as follows:\n",
    "\n",
    "|    |    |    |    |\n",
    "|----|----|----|----|\n",
    "| 63 | 58 | 76 | 59 |\n",
    "| 95 | 84 | 83 | 68 |\n",
    "| 81 | 90 | 87 | 45 |\n",
    "| 75 | 38 | 54 | 52 |\n",
    "| 90 | 100 | 45 | 76 | \n",
    "| 64 | 80 | 58 | 78 | \n",
    "| 45 | 68 | 64 | 50 |\n",
    "| 59 | 49 | 63 | 75 | \n",
    "| 72 | 68 | 92 | 64 |\n",
    "| 35 | 60 | 87 | 86 |\n",
    "\n",
    "Based on this data, can we claim that the reading scores have changed in the past 30 years? (This time we perform a two-sided test)"
   ]
  },
  {
   "cell_type": "code",
   "execution_count": 7,
   "metadata": {},
   "outputs": [
    {
     "data": {
      "text/html": [
       "-3.66392779993471"
      ],
      "text/latex": [
       "-3.66392779993471"
      ],
      "text/markdown": [
       "-3.66392779993471"
      ],
      "text/plain": [
       "[1] -3.663928"
      ]
     },
     "metadata": {},
     "output_type": "display_data"
    },
    {
     "data": {
      "text/html": [
       "0.000737102620778934"
      ],
      "text/latex": [
       "0.000737102620778934"
      ],
      "text/markdown": [
       "0.000737102620778934"
      ],
      "text/plain": [
       "[1] 0.0007371026"
      ]
     },
     "metadata": {},
     "output_type": "display_data"
    },
    {
     "data": {
      "image/png": "[encoded data removed]",
      "text/plain": [
       "Plot with title “Histogram of sample”"
      ]
     },
     "metadata": {},
     "output_type": "display_data"
    }
   ],
   "source": [
    "sample = c(63, 58, 76, 59,\n",
    "           95, 84, 83, 68,\n",
    "           81, 90, 87, 45,\n",
    "           75, 38, 54, 52,\n",
    "           90, 100, 45, 76, \n",
    "           64, 80, 58, 78, \n",
    "           45, 68, 64, 50,\n",
    "           59, 49, 63, 75, \n",
    "           72, 68, 92, 64,\n",
    "           35, 60, 87, 86)\n",
    "options(repr.plot.width=8, repr.plot.height=4)\n",
    "par(mfrow = c(1, 2))\n",
    "hist(sample, breaks=20)\n",
    "boxplot(sample)\n",
    "grid()\n",
    "\n",
    "n = length(sample)\n",
    "t = (mean(sample) - 78)/(sd(sample)/sqrt(n))\n",
    "t\n",
    "pvalue = pt(t, n-1)*2 # probability on left-side tail, as the observed value of the test is negative\n",
    "pvalue"
   ]
  },
  {
   "cell_type": "code",
   "execution_count": 2,
   "metadata": {},
   "outputs": [
    {
     "name": "stderr",
     "output_type": "stream",
     "text": [
      "Warning message:\n",
      "“Removed 378 rows containing non-finite values (stat_bin).”"
     ]
    },
    {
     "data": {},
     "metadata": {},
     "output_type": "display_data"
    },
    {
     "data": {
      "image/png": "[encoded data removed]",
      "text/plain": [
       "plot without title"
      ]
     },
     "metadata": {},
     "output_type": "display_data"
    }
   ],
   "source": [
    "library(ggplot2)\n",
    "mu.x = 100  # population value\n",
    "sd.x = 15   # population value\n",
    "n = 3       # small sample size to highlight t distribution tails\n",
    "sample.n = function(n){rnorm(n, mu.x, sd.x)}\n",
    "calculate.t = function(x){(mean(x) - mu.x)/(sd(x)/sqrt(length(x)))} # uses sample sd\n",
    "calculate.z = function(x){(mean(x) - mu.x)/(sd.x /sqrt(length(x)))} # uses population sd\n",
    "\n",
    "sample.ts = replicate(10000, calculate.t(sample.n(n)))\n",
    "sample.zs = replicate(10000, calculate.z(sample.n(n)))\n",
    "\n",
    "df = rbind(data.frame(value=sample.ts, statistic=\"T\"),\n",
    "           data.frame(value=sample.zs, statistic=\"Z\"))\n",
    "\n",
    "ggplot(df, aes(x=value, fill=statistic))+\n",
    "  geom_histogram(position=\"identity\", binwidth=0.2, alpha=0.5)+\n",
    "  scale_x_continuous(limits=c(-5,5))"
   ]
  },
  {
   "cell_type": "code",
   "execution_count": null,
   "metadata": {
    "collapsed": true
   },
   "outputs": [],
   "source": []
  },
  {
   "cell_type": "code",
   "execution_count": null,
   "metadata": {
    "collapsed": true
   },
   "outputs": [],
   "source": []
  }
 ],
 "metadata": {
  "kernelspec": {
   "display_name": "R",
   "language": "R",
   "name": "ir"
  },
  "language_info": {
   "codemirror_mode": "r",
   "file_extension": ".r",
   "mimetype": "text/x-r-source",
   "name": "R",
   "pygments_lexer": "r",
   "version": "3.3.2"
  }
 },
 "nbformat": 4,
 "nbformat_minor": 2
}
