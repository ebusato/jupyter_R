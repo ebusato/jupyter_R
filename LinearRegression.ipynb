{
 "cells": [
  {
   "cell_type": "markdown",
   "metadata": {},
   "source": [
    "<center>\n",
    " <font size=\"5\"> <b>This notebook illustrates how to perform linear regression in R </b></font>\n",
    "</center>\n",
    "\n",
    "We consider a simple linear regression with one explanatory (regressor) variables $x$ (straight line fit). The response variable is called $y$. The statistical model is:\n",
    "\n",
    "$$y(x; a, b, \\varepsilon) = a x + b + \\varepsilon$$\n",
    "\n",
    "where $\\varepsilon$ is the error. We assume that the error follows a normal distribution with mean $0$ and standard deviation $\\sigma$:\n",
    "\n",
    "$$\\varepsilon \\sim {\\cal N}(0, \\sigma)$$\n",
    "\n",
    "The parameters to estimate are the slope $a$ and the intercept $b$. The estimators will be denoted as $\\hat{a}$ and $\\hat{b}$. The estimation is done by minimizing the sum of squared residuals \n",
    "\n",
    "$$\\sum_{i=1} \\left(y_i - (ax_i+b)\\right)^2 = \\sum_i \\varepsilon_i^2$$\n",
    "\n",
    "where $x_i$ and $y_i$ are the $i^{th}$ measured values of $x$ and $y$. We also assume that the errors of all measurements are independent. \n",
    "\n",
    "The purpose is to see how R can be used to solve this problem, that is find $\\hat{a}$ and $\\hat{b}$ as well as their covariance matrix $U$:\n",
    "\n",
    "$$U=\\begin{pmatrix} \\sigma_\\hat{a}^2 & cov(\\hat{a}, \\hat{b})\\\\cov(\\hat{a}, \\hat{b}) & \\sigma_\\hat{b}^2\\end{pmatrix}$$\n",
    "\n",
    "For this, three methods can be used. We will perform calculations for all of them and compare results. Hopefully, we'll find the same !\n",
    "\n",
    "In all cases, we consider that the explanatory variable $x$ takes four values ($1$, $2$, $3$ and $4$) and that $\\sigma=0.5$. We generate a dataset for $a=2$ and $b=0.4$. "
   ]
  },
  {
   "cell_type": "code",
   "execution_count": 1,
   "metadata": {},
   "outputs": [
    {
     "data": {
      "image/png": "[encoded data removed]",
      "text/plain": [
       "plot without title"
      ]
     },
     "metadata": {},
     "output_type": "display_data"
    }
   ],
   "source": [
    "# Set seed to constant value so that results are reproducible\n",
    "set.seed(1485)\n",
    "\n",
    "# Create explanatory variable vector\n",
    "x <- c(1,2,3,4)\n",
    "\n",
    "# Generate pseudo-data\n",
    "slope <- 2\n",
    "intercept <- 0.4\n",
    "sigma <- 0.5\n",
    "y <- slope*x + intercept + rnorm(length(x), 0, sigma)\n",
    "\n",
    "# Plot data\n",
    "options(repr.plot.width=4, repr.plot.height=4) # This sets the size of the plot\n",
    "plot(y~x, ylim=c(0, 12))\n",
    "grid()\n",
    "\n",
    "# Plot true line\n",
    "lines(x, slope*x + intercept, col=\"red\")\n"
   ]
  },
  {
   "cell_type": "markdown",
   "metadata": {},
   "source": [
    "\n",
    "### Method 1: Explicit analytical calculation\n",
    "\n",
    "We know (see lecture notes) that the estimators are given by \n",
    "\n",
    "$$\\hat{a} = \\frac{n\\sum_i x_i y_i - \\sum_i\\sum_j x_i y_j}{n\\sum_i x_i^2 - \\sum_i\\sum_j x_i x_j}$$\n",
    "\n",
    "and \n",
    "\n",
    "$$\\hat{b} = \\frac{\\sum_i\\sum_j x_i^2y_j - \\sum_i\\sum_j x_i y_i x_j}{n\\sum_i x_i^2 - \\sum_i\\sum_j x_i x_j}$$\n",
    "\n",
    "and that the covariance matrix is given by\n",
    "\n",
    "$$U = \\frac{\\sigma^2}{n\\sum_i x_i^2 - \\left(\\sum_i x_i\\right)^2}\\begin{pmatrix} n & -\\sum_i x_i\\\\-\\sum_i x_i & \\sum_i x_i^2\\end{pmatrix}$$\n",
    "\n",
    "Notice that in the expression of $U$, the error standard deviation $\\sigma$ appears. In practical cases, we often don't know this value. So, rather than using the unknown true value we use the unbiased estimator (see p. 545 (chap \"The general linear model\" of Kendall's volume 2A):\n",
    "\n",
    "$$\\hat{\\sigma^2} = \\frac{\\sum_i \\left(y_i - \\hat{y}_i\\right)^2}{n-2}$$\n",
    "\n",
    "where $\\hat{y}_i = \\hat{a}x_i+\\hat{b}$ is the best fit value of $y_i$."
   ]
  },
  {
   "cell_type": "code",
   "execution_count": 2,
   "metadata": {},
   "outputs": [
    {
     "name": "stdout",
     "output_type": "stream",
     "text": [
      "[1] \"**************Results (method 1)*********************\"\n"
     ]
    },
    {
     "data": {
      "text/html": [
       "'aHat=1.910847 ; bHat=1.076623'"
      ],
      "text/latex": [
       "'aHat=1.910847 ; bHat=1.076623'"
      ],
      "text/markdown": [
       "'aHat=1.910847 ; bHat=1.076623'"
      ],
      "text/plain": [
       "[1] \"aHat=1.910847 ; bHat=1.076623\""
      ]
     },
     "metadata": {},
     "output_type": "display_data"
    },
    {
     "data": {
      "text/html": [
       "'var[aHat]=0.014435; var[bHat]=0.108261; cov(aHat,bHat)=-0.036087'"
      ],
      "text/latex": [
       "'var{[}aHat{]}=0.014435; var{[}bHat{]}=0.108261; cov(aHat,bHat)=-0.036087'"
      ],
      "text/markdown": [
       "'var[aHat]=0.014435; var[bHat]=0.108261; cov(aHat,bHat)=-0.036087'"
      ],
      "text/plain": [
       "[1] \"var[aHat]=0.014435; var[bHat]=0.108261; cov(aHat,bHat)=-0.036087\""
      ]
     },
     "metadata": {},
     "output_type": "display_data"
    },
    {
     "name": "stdout",
     "output_type": "stream",
     "text": [
      "[1] \"*****************************************************\"\n"
     ]
    }
   ],
   "source": [
    "n <- length(x)\n",
    "\n",
    "# Compute double sums\n",
    "num1 <- 0\n",
    "num2 <- 0\n",
    "num3 <- 0\n",
    "denom <- 0 \n",
    "for(i in 1:n) {\n",
    "    for (j in 1:n) {\n",
    "        num1 <- num1 + x[i]*y[j]\n",
    "        num2 <- num2 + x[i]^2*y[j]\n",
    "        num3 <- num3 + x[i]*y[i]*x[j]\n",
    "        denom <- denom + x[i]*x[j]\n",
    "    }\n",
    "}\n",
    "\n",
    "denom <- n*sum(x^2) - denom\n",
    "\n",
    "aHatMethod1 <- (n*sum(x*y) - num1)/denom\n",
    "bHatMethod1 <- (num2 - num3)/denom\n",
    "\n",
    "sigmaSqHat <- 1/(n-2)*sum((y-(aHatMethod1*x + bHatMethod1))^2)\n",
    "Ufactor <- sigmaSqHat/(n*sum(x^2)-sum(x)^2)\n",
    "U11Method1 <- Ufactor*n\n",
    "U12Method1 <- Ufactor*-1*sum(x)\n",
    "U22Method1 <- Ufactor*sum(x^2)\n",
    "\n",
    "print(\"**************Results (method 1)*********************\")\n",
    "sprintf(\"aHat=%f ; bHat=%f\", aHatMethod1, bHatMethod1)\n",
    "sprintf(\"var[aHat]=%f; var[bHat]=%f; cov(aHat,bHat)=%f\", U11Method1, U22Method1, U12Method1)\n",
    "print(\"*****************************************************\")"
   ]
  },
  {
   "cell_type": "markdown",
   "metadata": {},
   "source": [
    "### Method 2: Analytical calculations with matrices\n",
    "\n",
    "Let's call $\\theta=\\begin{pmatrix}a\\\\b\\end{pmatrix}$ the parameter vector and $X$ the regressors matrix:\n",
    "\n",
    "$$X = \\begin{pmatrix}x_1 & 1\\\\\\vdots & \\vdots\\\\x_n & 1\\end{pmatrix}$$\n",
    "\n",
    "The estimators are given by\n",
    "\n",
    "$$\\hat{\\theta} = \\left(X^T X\\right)^{-1}X^Ty$$\n",
    "\n",
    "where $X^T$ is the transpose of $X$. The correlation matrix of the $\\theta$s is:\n",
    "\n",
    "$$U=\\left(A^T V^{-1} A\\right)^{-1}$$\n",
    "\n",
    "where $V$ is the covariance matrix of the $y$s. As the errors are independent and normally distributed with variance $\\sigma^2$, we have\n",
    "\n",
    "$$V=\\begin{pmatrix} \\sigma^2 & \\cdots & 0 \\\\ \\vdots & & \\vdots \\\\ 0 & \\cdots & \\sigma^2\\end{pmatrix}$$\n",
    "\n",
    "We can thus rewrite $U$ as\n",
    "\n",
    "$$U = \\sigma^2 \\left(A^TA\\right)^{-1}$$\n",
    "\n",
    "As before, as the value of $\\sigma$ is generally not known, we use the estimator $\\hat{\\sigma^2}$"
   ]
  },
  {
   "cell_type": "code",
   "execution_count": 3,
   "metadata": {
    "scrolled": false
   },
   "outputs": [
    {
     "name": "stdout",
     "output_type": "stream",
     "text": [
      "[1] \"**************Results (method 2)*********************\"\n"
     ]
    },
    {
     "data": {
      "text/html": [
       "'aHat=1.910847 ; bHat=1.076623'"
      ],
      "text/latex": [
       "'aHat=1.910847 ; bHat=1.076623'"
      ],
      "text/markdown": [
       "'aHat=1.910847 ; bHat=1.076623'"
      ],
      "text/plain": [
       "[1] \"aHat=1.910847 ; bHat=1.076623\""
      ]
     },
     "metadata": {},
     "output_type": "display_data"
    },
    {
     "data": {
      "text/html": [
       "'var[aHat]=0.014435; var[bHat]=0.108261; cov(aHat,bHat)=-0.036087'"
      ],
      "text/latex": [
       "'var{[}aHat{]}=0.014435; var{[}bHat{]}=0.108261; cov(aHat,bHat)=-0.036087'"
      ],
      "text/markdown": [
       "'var[aHat]=0.014435; var[bHat]=0.108261; cov(aHat,bHat)=-0.036087'"
      ],
      "text/plain": [
       "[1] \"var[aHat]=0.014435; var[bHat]=0.108261; cov(aHat,bHat)=-0.036087\""
      ]
     },
     "metadata": {},
     "output_type": "display_data"
    },
    {
     "name": "stdout",
     "output_type": "stream",
     "text": [
      "[1] \"*****************************************************\"\n"
     ]
    }
   ],
   "source": [
    "X <- cbind(x, 1)\n",
    "thetaHat <- solve(t(X) %*% X) %*% t(X) %*% y\n",
    "covMatrixMethod2 <- sigmaSqHat * solve(t(X) %*% X)\n",
    "\n",
    "aHatMethod2 <- thetaHat[1]\n",
    "bHatMethod2 <- thetaHat[2]\n",
    "U11Method2 <- covMatrixMethod2[1, 1]\n",
    "U12Method2 <- covMatrixMethod2[1, 2]\n",
    "U22Method2 <- covMatrixMethod2[2, 2]\n",
    "\n",
    "print(\"**************Results (method 2)*********************\")\n",
    "sprintf(\"aHat=%f ; bHat=%f\", aHatMethod2, bHatMethod2)\n",
    "sprintf(\"var[aHat]=%f; var[bHat]=%f; cov(aHat,bHat)=%f\", U11Method2, U22Method2, U12Method2)\n",
    "print(\"*****************************************************\")"
   ]
  },
  {
   "cell_type": "markdown",
   "metadata": {
    "collapsed": true
   },
   "source": [
    "Results found with method 2 are the same as the ones found with method 1, but the number of lines of code is much smaller !!\n",
    "\n",
    "It's also possible to perform calculations with the built-in lm() function of R. That's what method 3 does.\n",
    "\n",
    "### Method 3: Use the lm function of R "
   ]
  },
  {
   "cell_type": "code",
   "execution_count": 4,
   "metadata": {},
   "outputs": [
    {
     "name": "stdout",
     "output_type": "stream",
     "text": [
      "[1] \"**************Results (method 3)*********************\"\n"
     ]
    },
    {
     "data": {
      "text/html": [
       "'aHat=1.910847 ; bHat=1.076623'"
      ],
      "text/latex": [
       "'aHat=1.910847 ; bHat=1.076623'"
      ],
      "text/markdown": [
       "'aHat=1.910847 ; bHat=1.076623'"
      ],
      "text/plain": [
       "[1] \"aHat=1.910847 ; bHat=1.076623\""
      ]
     },
     "metadata": {},
     "output_type": "display_data"
    },
    {
     "data": {
      "text/html": [
       "'var[aHat]=0.014435; var[bHat]=0.108261; cov(aHat,bHat)=-0.036087'"
      ],
      "text/latex": [
       "'var{[}aHat{]}=0.014435; var{[}bHat{]}=0.108261; cov(aHat,bHat)=-0.036087'"
      ],
      "text/markdown": [
       "'var[aHat]=0.014435; var[bHat]=0.108261; cov(aHat,bHat)=-0.036087'"
      ],
      "text/plain": [
       "[1] \"var[aHat]=0.014435; var[bHat]=0.108261; cov(aHat,bHat)=-0.036087\""
      ]
     },
     "metadata": {},
     "output_type": "display_data"
    },
    {
     "name": "stdout",
     "output_type": "stream",
     "text": [
      "[1] \"*****************************************************\"\n"
     ]
    }
   ],
   "source": [
    "# Make and print datas\n",
    "ds <- data.frame(x = x, y = y)\n",
    "ds.lm <- lm(y~x, data=ds)\n",
    "coeffs <- coefficients(ds.lm)\n",
    "covMatrixMethod3 <- vcov(ds.lm)\n",
    "\n",
    "aHatMethod3 <- coeffs[2]\n",
    "bHatMethod3 <- coeffs[1]\n",
    "U11Method3 <- covMatrixMethod3[1, 1]\n",
    "U12Method3 <- covMatrixMethod3[1, 2]\n",
    "U22Method3 <- covMatrixMethod3[2, 2]\n",
    "\n",
    "print(\"**************Results (method 3)*********************\")\n",
    "sprintf(\"aHat=%f ; bHat=%f\", aHatMethod3, bHatMethod3)\n",
    "sprintf(\"var[aHat]=%f; var[bHat]=%f; cov(aHat,bHat)=%f\", U22Method3, U11Method3, U12Method3)\n",
    "print(\"*****************************************************\")\n",
    "\n",
    "#print(\"Printing model summary\")\n",
    "#summary(ds.lm)\n",
    "\n",
    "# Another way to retrieve the coefficients\n",
    "#ds.lm$coef\n",
    "\n",
    "#print(\"Printing fit rsquared\")\n",
    "#summary(ds.lm)$r.squared\n",
    "\n",
    "#print(\"Printing vcov\")\n",
    "#vcov(ds.lm)\n"
   ]
  },
  {
   "cell_type": "markdown",
   "metadata": {},
   "source": [
    "### Conclusion\n",
    "\n",
    "The three methods give the same results !!\n",
    "\n",
    "It is useful to make a plot to visualize the result of the fit.\n",
    "\n",
    "For the confidence belt, see demonstration on page 740 (chap \"Analysis and Diagnostics for the linear model\")of Kendall's volume 2A."
   ]
  },
  {
   "cell_type": "code",
   "execution_count": 5,
   "metadata": {
    "collapsed": true
   },
   "outputs": [],
   "source": [
    "aHat <- aHatMethod3\n",
    "bHat <- bHatMethod3\n",
    "varaHat <- U22Method3\n",
    "varbHat <- U11Method3\n",
    "covaHatbHat <- U12Method3"
   ]
  },
  {
   "cell_type": "code",
   "execution_count": 82,
   "metadata": {},
   "outputs": [
    {
     "data": {
      "image/png": "[encoded data removed]",
      "text/plain": [
       "plot without title"
      ]
     },
     "metadata": {},
     "output_type": "display_data"
    }
   ],
   "source": [
    "# Start by re-plotting the data and the true line\n",
    "plot(y~x, ylim=c(0, 12))\n",
    "grid()\n",
    "lines(x, slope*x + intercept, col=\"red\")\n",
    "\n",
    "# Plot fitted line\n",
    "# method 1\n",
    "yt <- aHat*x+bHat\n",
    "lines(x, yt, col=\"blue\", lty=1)\n",
    "# method 2\n",
    "#abline(ds.lm, col=\"green\")\n",
    "\n",
    "# Adding legend to plot\n",
    "legend(\"topleft\", legend=c(\"Data\", \"True line\", \"Fitted line\"), \n",
    "       col=c(\"black\", \"red\", \"blue\"), lty=c(NA,1,1), pch=c(1, NA, NA), \n",
    "       bty = \"n\", y.intersp=2)\n",
    "\n",
    "# Plotting error band\n",
    "#prd2<-predict(ds.lm,interval = c(\"confidence\"), level = 0.6827, type=\"response\")\n",
    "#prd2\n",
    "#lines(x,prd2[,2],col=\"blue\",lty=2)\n",
    "#lines(x,prd2[,3],col=\"blue\",lty=2)\n",
    "\n",
    "# Note: the predict() function performs calculation as follows (here we give only up variations)\n",
    "#MSE=sigmaSqHat\n",
    "#t.quantiles <- qt(.84135, n-2)\n",
    "#SE_predict = sqrt(MSE)*sqrt(1/n+(mean(x)-x)^2/sum((x - mean(x))^2))\n",
    "#yt + SE_predict*t.quantiles"
   ]
  },
  {
   "cell_type": "code",
   "execution_count": null,
   "metadata": {
    "collapsed": true
   },
   "outputs": [],
   "source": []
  }
 ],
 "metadata": {
  "kernelspec": {
   "display_name": "R",
   "language": "R",
   "name": "ir"
  },
  "language_info": {
   "codemirror_mode": "r",
   "file_extension": ".r",
   "mimetype": "text/x-r-source",
   "name": "R",
   "pygments_lexer": "r",
   "version": "3.3.2"
  }
 },
 "nbformat": 4,
 "nbformat_minor": 2
}
