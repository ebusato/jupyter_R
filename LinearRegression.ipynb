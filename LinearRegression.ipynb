{
 "cells": [
  {
   "cell_type": "markdown",
   "metadata": {},
   "source": [
    "<center>\n",
    " <font size=\"5\"> <b>This notebook illustrates how to perform linear regression in R </b></font>\n",
    "</center>\n",
    "\n",
    "We consider a simple linear regression with one explanatory variables $x$ (straight line fit). The response variables are called $y$. The statistical model is:\n",
    "\n",
    "$$y(x) = a x + b + \\varepsilon$$\n",
    "\n",
    "where $\\varepsilon$ is the error. We assume that the error follows a normal distribution with mean $0$ and standard deviation $\\sigma$:\n",
    "\n",
    "$$\\varepsilon \\sim {\\cal N}(0, \\sigma)$$\n",
    "\n",
    "The parameters to estimate are the slope $a$ and the intercept $b$.\n",
    "\n",
    "The estimation is done by minimizing the sum of squared residuals \n",
    "\n",
    "$$\\sum_{i=1} \\left(y_i - y(x_i)\\right)^2$$\n",
    "\n",
    "where the $y_i$ are the measured values of $y$.\n",
    "\n",
    "<!---$$x = \\begin{pmatrix}x_1\\\\x_2\\\\x_3\\\\x_4\\end{pmatrix} = \\begin{pmatrix}1\\\\2\\\\3\\\\4\\end{pmatrix}$$--->\n",
    "\n"
   ]
  },
  {
   "cell_type": "code",
   "execution_count": 6,
   "metadata": {
    "scrolled": false
   },
   "outputs": [
    {
     "name": "stdout",
     "output_type": "stream",
     "text": [
      "'data.frame':\t4 obs. of  2 variables:\n",
      " $ x: num  1 2 3 4\n",
      " $ y: num  2.5 4.5 6.54 8.42\n"
     ]
    },
    {
     "data": {
      "text/html": [
       "<dl class=dl-horizontal>\n",
       "\t<dt>(Intercept)</dt>\n",
       "\t\t<dd>0.535324656873359</dd>\n",
       "\t<dt>x</dt>\n",
       "\t\t<dd>1.98216941458642</dd>\n",
       "</dl>\n"
      ],
      "text/latex": [
       "\\begin{description*}\n",
       "\\item[(Intercept)] 0.535324656873359\n",
       "\\item[x] 1.98216941458642\n",
       "\\end{description*}\n"
      ],
      "text/markdown": [
       "(Intercept)\n",
       ":   0.535324656873359x\n",
       ":   1.98216941458642\n",
       "\n"
      ],
      "text/plain": [
       "(Intercept)           x \n",
       "  0.5353247   1.9821694 "
      ]
     },
     "metadata": {},
     "output_type": "display_data"
    },
    {
     "name": "stdout",
     "output_type": "stream",
     "text": [
      "[1] \"Printing model summary\"\n"
     ]
    },
    {
     "data": {
      "text/plain": [
       "\n",
       "Call:\n",
       "lm(formula = y ~ x, data = ds)\n",
       "\n",
       "Residuals:\n",
       "        1         2         3         4 \n",
       "-0.018874 -0.002483  0.061588 -0.040231 \n",
       "\n",
       "Coefficients:\n",
       "            Estimate Std. Error t value Pr(>|t|)    \n",
       "(Intercept)  0.53532    0.06581   8.135 0.014777 *  \n",
       "x            1.98217    0.02403  82.491 0.000147 ***\n",
       "---\n",
       "Signif. codes:  0 ‘***’ 0.001 ‘**’ 0.01 ‘*’ 0.05 ‘.’ 0.1 ‘ ’ 1\n",
       "\n",
       "Residual standard error: 0.05373 on 2 degrees of freedom\n",
       "Multiple R-squared:  0.9997,\tAdjusted R-squared:  0.9996 \n",
       "F-statistic:  6805 on 1 and 2 DF,  p-value: 0.0001469\n"
      ]
     },
     "metadata": {},
     "output_type": "display_data"
    },
    {
     "name": "stdout",
     "output_type": "stream",
     "text": [
      "[1] \"Printing model coeff (post-fit)\"\n"
     ]
    },
    {
     "data": {
      "text/html": [
       "<dl class=dl-horizontal>\n",
       "\t<dt>(Intercept)</dt>\n",
       "\t\t<dd>0.535324656873359</dd>\n",
       "\t<dt>x</dt>\n",
       "\t\t<dd>1.98216941458642</dd>\n",
       "</dl>\n"
      ],
      "text/latex": [
       "\\begin{description*}\n",
       "\\item[(Intercept)] 0.535324656873359\n",
       "\\item[x] 1.98216941458642\n",
       "\\end{description*}\n"
      ],
      "text/markdown": [
       "(Intercept)\n",
       ":   0.535324656873359x\n",
       ":   1.98216941458642\n",
       "\n"
      ],
      "text/plain": [
       "(Intercept)           x \n",
       "  0.5353247   1.9821694 "
      ]
     },
     "metadata": {},
     "output_type": "display_data"
    },
    {
     "name": "stdout",
     "output_type": "stream",
     "text": [
      "[1] \"Printing fit rsquared\"\n"
     ]
    },
    {
     "data": {
      "text/html": [
       "0.999706173172523"
      ],
      "text/latex": [
       "0.999706173172523"
      ],
      "text/markdown": [
       "0.999706173172523"
      ],
      "text/plain": [
       "[1] 0.9997062"
      ]
     },
     "metadata": {},
     "output_type": "display_data"
    },
    {
     "name": "stdout",
     "output_type": "stream",
     "text": [
      "[1] \"Printing vcov\"\n"
     ]
    },
    {
     "data": {
      "text/html": [
       "<table>\n",
       "<thead><tr><th></th><th scope=col>(Intercept)</th><th scope=col>x</th></tr></thead>\n",
       "<tbody>\n",
       "\t<tr><th scope=row>(Intercept)</th><td> 0.004330439 </td><td>-0.0014434795</td></tr>\n",
       "\t<tr><th scope=row>x</th><td>-0.001443480 </td><td> 0.0005773918</td></tr>\n",
       "</tbody>\n",
       "</table>\n"
      ],
      "text/latex": [
       "\\begin{tabular}{r|ll}\n",
       "  & (Intercept) & x\\\\\n",
       "\\hline\n",
       "\t(Intercept) &  0.004330439  & -0.0014434795\\\\\n",
       "\tx & -0.001443480  &  0.0005773918\\\\\n",
       "\\end{tabular}\n"
      ],
      "text/markdown": [
       "\n",
       "| <!--/--> | (Intercept) | x | \n",
       "|---|---|\n",
       "| (Intercept) |  0.004330439  | -0.0014434795 | \n",
       "| x | -0.001443480  |  0.0005773918 | \n",
       "\n",
       "\n"
      ],
      "text/plain": [
       "            (Intercept)  x            \n",
       "(Intercept)  0.004330439 -0.0014434795\n",
       "x           -0.001443480  0.0005773918"
      ]
     },
     "metadata": {},
     "output_type": "display_data"
    },
    {
     "name": "stdout",
     "output_type": "stream",
     "text": [
      "[1] \"Printing analytical explicit calculations\"\n"
     ]
    },
    {
     "data": {
      "text/html": [
       "'Analytical results: varslope=0.00057739 varintercept=0.00433044 covariance=-0.00144348'"
      ],
      "text/latex": [
       "'Analytical results: varslope=0.00057739 varintercept=0.00433044 covariance=-0.00144348'"
      ],
      "text/markdown": [
       "'Analytical results: varslope=0.00057739 varintercept=0.00433044 covariance=-0.00144348'"
      ],
      "text/plain": [
       "[1] \"Analytical results: varslope=0.00057739 varintercept=0.00433044 covariance=-0.00144348\""
      ]
     },
     "metadata": {},
     "output_type": "display_data"
    },
    {
     "name": "stdout",
     "output_type": "stream",
     "text": [
      "[1] \"Printing analytical matrix calculations\"\n"
     ]
    },
    {
     "data": {
      "text/html": [
       "<table>\n",
       "<tbody>\n",
       "\t<tr><th scope=row></th><td>0.5353247</td></tr>\n",
       "\t<tr><th scope=row>x</th><td>1.9821694</td></tr>\n",
       "</tbody>\n",
       "</table>\n"
      ],
      "text/latex": [
       "\\begin{tabular}{r|l}\n",
       "\t & 0.5353247\\\\\n",
       "\tx & 1.9821694\\\\\n",
       "\\end{tabular}\n"
      ],
      "text/markdown": [
       "\n",
       "|  | 0.5353247 | \n",
       "| x | 1.9821694 | \n",
       "\n",
       "\n"
      ],
      "text/plain": [
       "  [,1]     \n",
       "  0.5353247\n",
       "x 1.9821694"
      ]
     },
     "metadata": {},
     "output_type": "display_data"
    },
    {
     "data": {
      "text/html": [
       "<table>\n",
       "<thead><tr><th></th><th scope=col></th><th scope=col>x</th></tr></thead>\n",
       "<tbody>\n",
       "\t<tr><th scope=row></th><td> 0.004330439 </td><td>-0.0014434795</td></tr>\n",
       "\t<tr><th scope=row>x</th><td>-0.001443480 </td><td> 0.0005773918</td></tr>\n",
       "</tbody>\n",
       "</table>\n"
      ],
      "text/latex": [
       "\\begin{tabular}{r|ll}\n",
       "  &  & x\\\\\n",
       "\\hline\n",
       "\t &  0.004330439  & -0.0014434795\\\\\n",
       "\tx & -0.001443480  &  0.0005773918\\\\\n",
       "\\end{tabular}\n"
      ],
      "text/markdown": [
       "\n",
       "| <!--/--> |  | x | \n",
       "|---|---|\n",
       "|  |  0.004330439  | -0.0014434795 | \n",
       "| x | -0.001443480  |  0.0005773918 | \n",
       "\n",
       "\n"
      ],
      "text/plain": [
       "               x            \n",
       "   0.004330439 -0.0014434795\n",
       "x -0.001443480  0.0005773918"
      ]
     },
     "metadata": {},
     "output_type": "display_data"
    },
    {
     "name": "stdout",
     "output_type": "stream",
     "text": [
      "[1] \"Plotting\"\n"
     ]
    },
    {
     "ename": "ERROR",
     "evalue": "Error in summary(prd): object 'prd' not found\n",
     "output_type": "error",
     "traceback": [
      "Error in summary(prd): object 'prd' not found\nTraceback:\n",
      "1. summary(prd)"
     ]
    },
    {
     "data": {
      "image/png": "[encoded data removed]",
      "text/plain": [
       "plot without title"
      ]
     },
     "metadata": {},
     "output_type": "display_data"
    }
   ],
   "source": [
    "set.seed(1485)\n",
    "options(repr.plot.width=4, repr.plot.height=4)\n",
    "x <- c(1,2,3,4)\n",
    "slopet <- 2\n",
    "interceptt <- 0.4\n",
    "\n",
    "# Generate pseudo-data\n",
    "sigma <- 0.1\n",
    "y <- slopet*x + interceptt + rnorm(length(x), 0, sigma)\n",
    "\n",
    "# Making data frame\n",
    "ds <- data.frame(x = x, y = y)\n",
    "str(ds)\n",
    "\n",
    "# Plot data\n",
    "plot(y~x, ylim=c(0, 12))\n",
    "grid()\n",
    "\n",
    "# Make linear regression\n",
    "ds.lm <- lm(y~x, data=ds)\n",
    "coeffs = coefficients(ds.lm)\n",
    "coeffs\n",
    "\n",
    "print(\"Printing model summary\")\n",
    "summary(ds.lm)\n",
    "\n",
    "print(\"Printing model coeff (post-fit)\")\n",
    "ds.lm$coef\n",
    "\n",
    "print(\"Printing fit rsquared\")\n",
    "summary(ds.lm)$r.squared\n",
    "\n",
    "print(\"Printing vcov\")\n",
    "vcov(ds.lm)\n",
    "\n",
    "\n",
    "print(\"Printing analytical explicit calculations\")\n",
    "# Analytical covariance matrix (see my statistics exercices)\n",
    "sigmahatsq <- 1/(length(x)-2)*sum((y - (coeffs[2]*x + coeffs[1]))^2)\n",
    "factor <- sigmahatsq/(length(x)*sum(x^2) - (sum(x)*sum(x)))\n",
    "varslope <- length(x)*factor\n",
    "varintercept <- sum(x^2)*factor\n",
    "covsllint <- -1*sum(x)*factor\n",
    "sprintf(\"Analytical results: varslope=%.8f varintercept=%.8f covariance=%.8f\", varslope, varintercept, covsllint)\n",
    "\n",
    "print(\"Printing analytical matrix calculations\")\n",
    "# Analytical from matrices\n",
    "X <- cbind(1, x)\n",
    "betaHat <- solve(t(X) %*% X) %*% t(X) %*% y\n",
    "#var_betaHat <- anova(mod)[[3]][2] * solve(t(X) %*% X)\n",
    "covMatrix <- sigmahatsq * solve(t(X) %*% X)\n",
    "\n",
    "betaHat\n",
    "covMatrix\n",
    "\n",
    "\n",
    "print(\"Plotting\")\n",
    "# Plot fit\n",
    "# method 1\n",
    "#yt <- coeffs[2]*x+coeffs[1]\n",
    "#lines(x, yt, col=\"red\")\n",
    "# method 2\n",
    "abline(ds.lm, col=\"green\")\n",
    "\n",
    "newx <- c(3)\n",
    "prd1<-predict(ds.lm, newdata = data.frame(x=newx))\n",
    "summary(prd)\n",
    "\n",
    "prd2<-predict(ds.lm,interval = c(\"confidence\"), level = 0.90,type=\"response\")\n",
    "prd2\n",
    "lines(x,prd2[,2],col=\"red\",lty=2)\n",
    "lines(x,prd2[,3],col=\"red\",lty=2)\n",
    "\n",
    "\n",
    "# Analytical (in order to check that numerical computation finds analytical solution)\n",
    "n <- length(x)\n",
    "covariance <- cov(x, y)*n/(n-1)\n",
    "sdx <- sd(x)*sqrt(n/(n-1))\n",
    "sdy <- sd(y)*sqrt(n/(n-1))\n",
    "corr <- covariance/(sdx*sdy)\n",
    "slopeana <- corr*sdy/sdx\n",
    "interceptana <- mean(y) - corr*sdy/sdx*mean(x)\n",
    "slopeana\n",
    "interceptana\n",
    "\n",
    "# Use R's plot function of model\n",
    "#par(mfrow = c(2,2))\n",
    "#options(repr.plot.width=10, repr.plot.height=6)\n",
    "#plot(ds.lm)"
   ]
  },
  {
   "cell_type": "code",
   "execution_count": null,
   "metadata": {
    "collapsed": true
   },
   "outputs": [],
   "source": []
  }
 ],
 "metadata": {
  "kernelspec": {
   "display_name": "R",
   "language": "R",
   "name": "ir"
  },
  "language_info": {
   "codemirror_mode": "r",
   "file_extension": ".r",
   "mimetype": "text/x-r-source",
   "name": "R",
   "pygments_lexer": "r",
   "version": "3.3.2"
  }
 },
 "nbformat": 4,
 "nbformat_minor": 2
}
