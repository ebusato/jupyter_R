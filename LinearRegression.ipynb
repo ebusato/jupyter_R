{
 "cells": [
  {
   "cell_type": "markdown",
   "metadata": {},
   "source": [
    "<center>\n",
    " <font size=\"5\"> <b>This notebook illustrates how to perform linear regression in R </b></font>\n",
    "</center>\n",
    "\n",
    "We consider a simple linear regression with one explanatory (regressor) variables $x$ (straight line fit). The response variables are called $y$. The statistical model is:\n",
    "\n",
    "$$y(x; a, b, \\varepsilon) = a x + b + \\varepsilon$$\n",
    "\n",
    "where $\\varepsilon$ is the error. We assume that the error follows a normal distribution with mean $0$ and standard deviation $\\sigma$:\n",
    "\n",
    "$$\\varepsilon \\sim {\\cal N}(0, \\sigma)$$\n",
    "\n",
    "The parameters to estimate are the slope $a$ and the intercept $b$. The estimators will be denoted as $\\hat{a}$ and $\\hat{b}$. The estimation is done by minimizing the sum of squared residuals \n",
    "\n",
    "$$\\sum_{i=1} \\left(y_i - y(x_i; a, b, \\varepsilon=0)\\right)^2$$\n",
    "\n",
    "where $y_i$ is the $i^{th}$ measured values of $y$. We also assume that the errors of all measurements are independent. \n",
    "\n",
    "The purpose is to see how R can be used to solve this problem, that is find $\\hat{a}$ and $\\hat{b}$ as well as their covariance matrix. For this, three methods can be used. We will perform calculations for all of them and compare results. Hopefully, we'll find the same results !\n",
    "\n",
    "In all cases, we consider that the explanatory variable $x$ can take four values ($1$, $2$, $3$ and $4$) and that $\\sigma=0.1$. We generate a dataset for $a=2$ and $b=0.4$. "
   ]
  },
  {
   "cell_type": "code",
   "execution_count": 16,
   "metadata": {},
   "outputs": [
    {
     "data": {
      "text/html": [
       "<table>\n",
       "<thead><tr><th scope=col>x</th><th scope=col>y</th></tr></thead>\n",
       "<tbody>\n",
       "\t<tr><td>1       </td><td>2.991723</td></tr>\n",
       "\t<tr><td>2       </td><td>4.983081</td></tr>\n",
       "\t<tr><td>3       </td><td>7.260523</td></tr>\n",
       "\t<tr><td>4       </td><td>8.542630</td></tr>\n",
       "</tbody>\n",
       "</table>\n"
      ],
      "text/latex": [
       "\\begin{tabular}{r|ll}\n",
       " x & y\\\\\n",
       "\\hline\n",
       "\t 1        & 2.991723\\\\\n",
       "\t 2        & 4.983081\\\\\n",
       "\t 3        & 7.260523\\\\\n",
       "\t 4        & 8.542630\\\\\n",
       "\\end{tabular}\n"
      ],
      "text/markdown": [
       "\n",
       "x | y | \n",
       "|---|---|---|---|\n",
       "| 1        | 2.991723 | \n",
       "| 2        | 4.983081 | \n",
       "| 3        | 7.260523 | \n",
       "| 4        | 8.542630 | \n",
       "\n",
       "\n"
      ],
      "text/plain": [
       "  x y       \n",
       "1 1 2.991723\n",
       "2 2 4.983081\n",
       "3 3 7.260523\n",
       "4 4 8.542630"
      ]
     },
     "metadata": {},
     "output_type": "display_data"
    },
    {
     "data": {
      "image/png": "[encoded data removed]",
      "text/plain": [
       "plot without title"
      ]
     },
     "metadata": {},
     "output_type": "display_data"
    }
   ],
   "source": [
    "# Set seed to constant value so that results are reproducible\n",
    "set.seed(1485)\n",
    "\n",
    "# Create explanatory variable vector\n",
    "x <- c(1,2,3,4)\n",
    "\n",
    "# Generate pseudo-data\n",
    "slope <- 2\n",
    "intercept <- 0.4\n",
    "sigma <- 0.6\n",
    "y <- slope*x + intercept + rnorm(length(x), 0, sigma)\n",
    "\n",
    "# Make and print datas\n",
    "ds <- data.frame(x = x, y = y)\n",
    "ds\n",
    "\n",
    "# Plot data\n",
    "options(repr.plot.width=4, repr.plot.height=4) # This sets the size of the plot\n",
    "plot(y~x, ylim=c(0, 12))\n",
    "grid()\n",
    "\n",
    "# Plot true line\n",
    "lines(x, slopet*x + interceptt, col=\"red\")\n"
   ]
  },
  {
   "cell_type": "markdown",
   "metadata": {},
   "source": [
    "\n",
    "#### Method 1: explicit analytical calculation\n",
    "\n",
    "We know (see lecture notes) that the estimators are given by \n",
    "\n",
    "$$\\hat{a} = \\frac{n\\sum_i x_i y_i - \\sum_i\\sum_j x_i y_j}{n\\sum_i x_i^2 - \\sum_i\\sum_j x_i x_j}$$\n",
    "\n",
    "and \n",
    "\n",
    "$$\\hat{b} = \\frac{\\sum_i\\sum_j x_i^2y_j - \\sum_i\\sum_j x_i y_i x_j}{n\\sum_i x_i^2 - \\sum_i\\sum_j x_i x_j}$$\n",
    "\n",
    "and that the covariance matrix is given by\n",
    "\n",
    "$$U=\\begin{pmatrix} \\sigma_a^2 & cov(a, b)\\\\cov(a, b) & \\sigma_b^2\\end{pmatrix} = \\frac{\\sigma^2}{n\\sum_i x_i^2 - \\left(\\sum_i x_i\\right)^2}\\begin{pmatrix} n & -\\sum_i x_i\\\\-\\sum_i x_i & \\sum_i x_i^2\\end{pmatrix}$$\n",
    "\n",
    "Notice that in the expression of $U$, the error standard deviation $\\sigma$ appears. In practical cases, we often don't know this value. So, rather than using the unknown true value we use an estimator:\n",
    "\n",
    "$$\\hat{\\sigma^2} = \\frac{\\sum_i \\left(y_i - \\hat{y}_i\\right)^2}{n-2}$$\n",
    "\n",
    "where $\\hat{y}_i = \\hat{a}x_i+\\hat{b}$ is the best fit value of $y_i$."
   ]
  },
  {
   "cell_type": "code",
   "execution_count": 29,
   "metadata": {},
   "outputs": [
    {
     "name": "stdout",
     "output_type": "stream",
     "text": [
      "[1] \"**************Results (method 1)*********************\"\n"
     ]
    },
    {
     "data": {
      "text/html": [
       "'aHat=1.893016 ; bHat=1.211948'"
      ],
      "text/latex": [
       "'aHat=1.893016 ; bHat=1.211948'"
      ],
      "text/markdown": [
       "'aHat=1.893016 ; bHat=1.211948'"
      ],
      "text/plain": [
       "[1] \"aHat=1.893016 ; bHat=1.211948\""
      ]
     },
     "metadata": {},
     "output_type": "display_data"
    },
    {
     "data": {
      "text/html": [
       "'var[aHat]=0.020786; var[bHat]=0.155896; cov(aHat,bHat)=-0.051965'"
      ],
      "text/latex": [
       "'var{[}aHat{]}=0.020786; var{[}bHat{]}=0.155896; cov(aHat,bHat)=-0.051965'"
      ],
      "text/markdown": [
       "'var[aHat]=0.020786; var[bHat]=0.155896; cov(aHat,bHat)=-0.051965'"
      ],
      "text/plain": [
       "[1] \"var[aHat]=0.020786; var[bHat]=0.155896; cov(aHat,bHat)=-0.051965\""
      ]
     },
     "metadata": {},
     "output_type": "display_data"
    }
   ],
   "source": [
    "n <- length(x)\n",
    "\n",
    "# Compute double sums\n",
    "num1 <- 0\n",
    "num2 <- 0\n",
    "num3 <- 0\n",
    "denom <- 0 \n",
    "for(i in 1:n) {\n",
    "    for (j in 1:n) {\n",
    "        num1 <- num1 + x[i]*y[j]\n",
    "        num2 <- num2 + x[i]^2*y[j]\n",
    "        num3 <- num3 + x[i]*y[i]*x[j]\n",
    "        denom <- denom + x[i]*x[j]\n",
    "    }\n",
    "}\n",
    "\n",
    "denom <- n*sum(x^2) - denom\n",
    "\n",
    "aHatMethod1 <- (n*sum(x*y) - num1)/denom\n",
    "bHatMethod1 <- (num2 - num3)/denom\n",
    "\n",
    "sigmaSqHat <- 1/(n-2)*sum((y-(aHatMethod1*x + bHatMethod1))^2)\n",
    "Ufactor <- sigmaSqHat/(n*sum(x^2)-sum(x)^2)\n",
    "U11 <- Ufactor*n\n",
    "U12 <- Ufactor*-1*sum(x)\n",
    "U22 <- Ufactor*sum(x^2)\n",
    "\n",
    "print(\"**************Results (method 1)*********************\")\n",
    "sprintf(\"aHat=%f ; bHat=%f\", aHatMethod1, bHatMethod1)\n",
    "sprintf(\"var[aHat]=%f; var[bHat]=%f; cov(aHat,bHat)=%f\", U11, U22, U12)\n",
    "\n",
    "\n",
    "\n",
    "#print(\"Printing analytical explicit calculations\")\n",
    "# Analytical covariance matrix (see my statistics exercices)\n",
    "#sigmahatsq <- 1/(length(x)-2)*sum((y - (coeffs[2]*x + coeffs[1]))^2)\n",
    "#factor <- sigmahatsq/(length(x)*sum(x^2) - (sum(x)*sum(x)))\n",
    "#varslope <- length(x)*factor\n",
    "#varintercept <- sum(x^2)*factor\n",
    "#covsllint <- -1*sum(x)*factor\n",
    "#sprintf(\"Analytical results: varslope=%.8f varintercept=%.8f covariance=%.8f\", varslope, varintercept, covsllint)"
   ]
  },
  {
   "cell_type": "markdown",
   "metadata": {},
   "source": [
    "#### Method 2: analytical calculations with matrices\n",
    "\n",
    "Let's call $\\theta=\\begin{pmatrix}a\\\\b\\end{pmatrix}$ the parameter vector and $X$ the regressors matrix:\n",
    "\n",
    "$$X = \\begin{pmatrix}x_1 & 1\\\\\\vdots & \\vdots\\\\x_n & 1\\end{pmatrix}$$\n",
    "\n",
    "The estimators are given by\n",
    "\n",
    "$$\\hat{\\theta} = \\left(X^T X\\right)^{-1}X^Ty$$\n",
    "\n",
    "where $X^T$ is the transpose of $X$. The correlation matrix of the $\\theta$s is:\n",
    "\n",
    "$$U=\\begin{pmatrix} \\sigma_a^2 & cov(a, b)\\\\cov(a, b) & \\sigma_b^2\\end{pmatrix}=\\left(A^T V^{-1} A\\right)^{-1}$$\n",
    "\n",
    "where $V$ is the covariance matrix of the $y$s. As the errors are independent and normally distributed with variance $\\sigma^2$, we have\n",
    "\n",
    "$$V=\\begin{pmatrix} \\sigma^2 & \\cdots & 0 \\\\ \\vdots & & \\vdots \\\\ 0 & \\cdots & \\sigma^2\\end{pmatrix}$$\n",
    "\n",
    "We can thus rewrite $U$ as\n",
    "\n",
    "$$U = \\sigma^2 \\left(A^TA\\right)^{-1}$$\n",
    "\n",
    "As before, as the value of $\\sigma$ is generally not known, we use the estimator $\\hat{\\sigma^2}$"
   ]
  },
  {
   "cell_type": "code",
   "execution_count": 32,
   "metadata": {
    "scrolled": false
   },
   "outputs": [
    {
     "name": "stdout",
     "output_type": "stream",
     "text": [
      "[1] \"**************Results (method 2)*********************\"\n"
     ]
    },
    {
     "data": {
      "text/html": [
       "<table>\n",
       "<tbody>\n",
       "\t<tr><th scope=row>x</th><td>1.893016</td></tr>\n",
       "\t<tr><th scope=row></th><td>1.211948</td></tr>\n",
       "</tbody>\n",
       "</table>\n"
      ],
      "text/latex": [
       "\\begin{tabular}{r|l}\n",
       "\tx & 1.893016\\\\\n",
       "\t & 1.211948\\\\\n",
       "\\end{tabular}\n"
      ],
      "text/markdown": [
       "\n",
       "| x | 1.893016 | \n",
       "|  | 1.211948 | \n",
       "\n",
       "\n"
      ],
      "text/plain": [
       "  [,1]    \n",
       "x 1.893016\n",
       "  1.211948"
      ]
     },
     "metadata": {},
     "output_type": "display_data"
    },
    {
     "data": {
      "text/html": [
       "<table>\n",
       "<thead><tr><th></th><th scope=col>x</th><th scope=col></th></tr></thead>\n",
       "<tbody>\n",
       "\t<tr><th scope=row>x</th><td> 0.02078611</td><td>-0.05196526</td></tr>\n",
       "\t<tr><th scope=row></th><td>-0.05196526</td><td> 0.15589579</td></tr>\n",
       "</tbody>\n",
       "</table>\n"
      ],
      "text/latex": [
       "\\begin{tabular}{r|ll}\n",
       "  & x & \\\\\n",
       "\\hline\n",
       "\tx &  0.02078611 & -0.05196526\\\\\n",
       "\t & -0.05196526 &  0.15589579\\\\\n",
       "\\end{tabular}\n"
      ],
      "text/markdown": [
       "\n",
       "| <!--/--> | x |  | \n",
       "|---|---|\n",
       "| x |  0.02078611 | -0.05196526 | \n",
       "|  | -0.05196526 |  0.15589579 | \n",
       "\n",
       "\n"
      ],
      "text/plain": [
       "  x                      \n",
       "x  0.02078611 -0.05196526\n",
       "  -0.05196526  0.15589579"
      ]
     },
     "metadata": {},
     "output_type": "display_data"
    }
   ],
   "source": [
    "X <- cbind(x, 1)\n",
    "betaHat <- solve(t(X) %*% X) %*% t(X) %*% y\n",
    "covMatrix <- sigmaSqHat * solve(t(X) %*% X)\n",
    "\n",
    "print(\"**************Results (method 2)*********************\")\n",
    "betaHat\n",
    "covMatrix"
   ]
  },
  {
   "cell_type": "markdown",
   "metadata": {
    "collapsed": true
   },
   "source": [
    "#### Method 3: lm function of R "
   ]
  },
  {
   "cell_type": "code",
   "execution_count": 28,
   "metadata": {},
   "outputs": [
    {
     "data": {
      "text/html": [
       "<dl class=dl-horizontal>\n",
       "\t<dt>(Intercept)</dt>\n",
       "\t\t<dd>1.21194794124016</dd>\n",
       "\t<dt>x</dt>\n",
       "\t\t<dd>1.89301648751852</dd>\n",
       "</dl>\n"
      ],
      "text/latex": [
       "\\begin{description*}\n",
       "\\item[(Intercept)] 1.21194794124016\n",
       "\\item[x] 1.89301648751852\n",
       "\\end{description*}\n"
      ],
      "text/markdown": [
       "(Intercept)\n",
       ":   1.21194794124016x\n",
       ":   1.89301648751852\n",
       "\n"
      ],
      "text/plain": [
       "(Intercept)           x \n",
       "   1.211948    1.893016 "
      ]
     },
     "metadata": {},
     "output_type": "display_data"
    },
    {
     "name": "stdout",
     "output_type": "stream",
     "text": [
      "[1] \"Printing model summary\"\n"
     ]
    },
    {
     "data": {
      "text/plain": [
       "\n",
       "Call:\n",
       "lm(formula = y ~ x, data = ds)\n",
       "\n",
       "Residuals:\n",
       "      1       2       3       4 \n",
       "-0.1132 -0.0149  0.3695 -0.2414 \n",
       "\n",
       "Coefficients:\n",
       "            Estimate Std. Error t value Pr(>|t|)   \n",
       "(Intercept)   1.2119     0.3948   3.069  0.09176 . \n",
       "x             1.8930     0.1442  13.130  0.00575 **\n",
       "---\n",
       "Signif. codes:  0 ‘***’ 0.001 ‘**’ 0.01 ‘*’ 0.05 ‘.’ 0.1 ‘ ’ 1\n",
       "\n",
       "Residual standard error: 0.3224 on 2 degrees of freedom\n",
       "Multiple R-squared:  0.9885,\tAdjusted R-squared:  0.9828 \n",
       "F-statistic: 172.4 on 1 and 2 DF,  p-value: 0.00575\n"
      ]
     },
     "metadata": {},
     "output_type": "display_data"
    },
    {
     "name": "stdout",
     "output_type": "stream",
     "text": [
      "[1] \"Printing model coeff (post-fit)\"\n"
     ]
    },
    {
     "data": {
      "text/html": [
       "<dl class=dl-horizontal>\n",
       "\t<dt>(Intercept)</dt>\n",
       "\t\t<dd>1.21194794124016</dd>\n",
       "\t<dt>x</dt>\n",
       "\t\t<dd>1.89301648751852</dd>\n",
       "</dl>\n"
      ],
      "text/latex": [
       "\\begin{description*}\n",
       "\\item[(Intercept)] 1.21194794124016\n",
       "\\item[x] 1.89301648751852\n",
       "\\end{description*}\n"
      ],
      "text/markdown": [
       "(Intercept)\n",
       ":   1.21194794124016x\n",
       ":   1.89301648751852\n",
       "\n"
      ],
      "text/plain": [
       "(Intercept)           x \n",
       "   1.211948    1.893016 "
      ]
     },
     "metadata": {},
     "output_type": "display_data"
    },
    {
     "name": "stdout",
     "output_type": "stream",
     "text": [
      "[1] \"Printing fit rsquared\"\n"
     ]
    },
    {
     "data": {
      "text/html": [
       "0.988532068672949"
      ],
      "text/latex": [
       "0.988532068672949"
      ],
      "text/markdown": [
       "0.988532068672949"
      ],
      "text/plain": [
       "[1] 0.9885321"
      ]
     },
     "metadata": {},
     "output_type": "display_data"
    },
    {
     "name": "stdout",
     "output_type": "stream",
     "text": [
      "[1] \"Printing vcov\"\n"
     ]
    },
    {
     "data": {
      "text/html": [
       "<table>\n",
       "<thead><tr><th></th><th scope=col>(Intercept)</th><th scope=col>x</th></tr></thead>\n",
       "<tbody>\n",
       "\t<tr><th scope=row>(Intercept)</th><td> 0.15589579</td><td>-0.05196526</td></tr>\n",
       "\t<tr><th scope=row>x</th><td>-0.05196526</td><td> 0.02078611</td></tr>\n",
       "</tbody>\n",
       "</table>\n"
      ],
      "text/latex": [
       "\\begin{tabular}{r|ll}\n",
       "  & (Intercept) & x\\\\\n",
       "\\hline\n",
       "\t(Intercept) &  0.15589579 & -0.05196526\\\\\n",
       "\tx & -0.05196526 &  0.02078611\\\\\n",
       "\\end{tabular}\n"
      ],
      "text/markdown": [
       "\n",
       "| <!--/--> | (Intercept) | x | \n",
       "|---|---|\n",
       "| (Intercept) |  0.15589579 | -0.05196526 | \n",
       "| x | -0.05196526 |  0.02078611 | \n",
       "\n",
       "\n"
      ],
      "text/plain": [
       "            (Intercept) x          \n",
       "(Intercept)  0.15589579 -0.05196526\n",
       "x           -0.05196526  0.02078611"
      ]
     },
     "metadata": {},
     "output_type": "display_data"
    }
   ],
   "source": [
    "\n",
    "# Make linear regression\n",
    "ds.lm <- lm(y~x, data=ds)\n",
    "coeffs = coefficients(ds.lm)\n",
    "coeffs\n",
    "\n",
    "print(\"Printing model summary\")\n",
    "summary(ds.lm)\n",
    "\n",
    "print(\"Printing model coeff (post-fit)\")\n",
    "ds.lm$coef\n",
    "\n",
    "print(\"Printing fit rsquared\")\n",
    "summary(ds.lm)$r.squared\n",
    "\n",
    "print(\"Printing vcov\")\n",
    "vcov(ds.lm)\n"
   ]
  },
  {
   "cell_type": "code",
   "execution_count": null,
   "metadata": {
    "collapsed": true
   },
   "outputs": [],
   "source": [
    "\n",
    "print(\"Plotting\")\n",
    "# Plot fit\n",
    "# method 1\n",
    "#yt <- coeffs[2]*x+coeffs[1]\n",
    "#lines(x, yt, col=\"red\")\n",
    "# method 2\n",
    "abline(ds.lm, col=\"green\")\n",
    "\n",
    "newx <- c(3)\n",
    "prd1<-predict(ds.lm, newdata = data.frame(x=newx))\n",
    "summary(prd)\n",
    "\n",
    "prd2<-predict(ds.lm,interval = c(\"confidence\"), level = 0.90,type=\"response\")\n",
    "prd2\n",
    "lines(x,prd2[,2],col=\"red\",lty=2)\n",
    "lines(x,prd2[,3],col=\"red\",lty=2)\n",
    "\n",
    "\n",
    "# Analytical (in order to check that numerical computation finds analytical solution)\n",
    "n <- length(x)\n",
    "covariance <- cov(x, y)*n/(n-1)\n",
    "sdx <- sd(x)*sqrt(n/(n-1))\n",
    "sdy <- sd(y)*sqrt(n/(n-1))\n",
    "corr <- covariance/(sdx*sdy)\n",
    "slopeana <- corr*sdy/sdx\n",
    "interceptana <- mean(y) - corr*sdy/sdx*mean(x)\n",
    "slopeana\n",
    "interceptana\n",
    "\n",
    "# Use R's plot function of model\n",
    "#par(mfrow = c(2,2))\n",
    "#options(repr.plot.width=10, repr.plot.height=6)\n",
    "#plot(ds.lm)"
   ]
  },
  {
   "cell_type": "code",
   "execution_count": null,
   "metadata": {
    "collapsed": true
   },
   "outputs": [],
   "source": []
  }
 ],
 "metadata": {
  "kernelspec": {
   "display_name": "R",
   "language": "R",
   "name": "ir"
  },
  "language_info": {
   "codemirror_mode": "r",
   "file_extension": ".r",
   "mimetype": "text/x-r-source",
   "name": "R",
   "pygments_lexer": "r",
   "version": "3.3.2"
  }
 },
 "nbformat": 4,
 "nbformat_minor": 2
}
