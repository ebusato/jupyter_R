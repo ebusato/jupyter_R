{
 "cells": [
  {
   "cell_type": "markdown",
   "metadata": {},
   "source": [
    "In this notebook, we use R to solve some problems from Benoit Clement's book"
   ]
  },
  {
   "cell_type": "markdown",
   "metadata": {},
   "source": [
    "# I.1 Histogramme (p. 27)"
   ]
  },
  {
   "cell_type": "code",
   "execution_count": 4,
   "metadata": {
    "collapsed": true
   },
   "outputs": [],
   "source": [
    "sample <- c(3.088, 3.544, 5.014, 0.386, 1.448,\n",
    "           1.749, 1.398, 2.255, 4.084, 0.673, \n",
    "           4.085, 0.625, 4.899, 0.615, 4.029,\n",
    "           1.906, 2.094, 1.726, 0.388, 6.589,\n",
    "           0.782, 3.807, 1.552, 1.955, 2.434,\n",
    "           3.683, 1.617, 1.811, 0.989, 4.388,\n",
    "           1.706, 0.969, 0.524, 2.206, 2.955, \n",
    "           6.445, 0.81, 0.98, 6.407, 2.01,\n",
    "           2.431, 0.748, 0.041, 1.019, 1.709, \n",
    "           1.418, 1.535, 2.068, 1.18, 1.064)"
   ]
  },
  {
   "cell_type": "markdown",
   "metadata": {},
   "source": [
    "__Question 1:__"
   ]
  },
  {
   "cell_type": "code",
   "execution_count": 5,
   "metadata": {},
   "outputs": [
    {
     "data": {
      "text/html": [
       "2.23676"
      ],
      "text/latex": [
       "2.23676"
      ],
      "text/markdown": [
       "2.23676"
      ],
      "text/plain": [
       "[1] 2.23676"
      ]
     },
     "metadata": {},
     "output_type": "display_data"
    },
    {
     "data": {
      "text/html": [
       "1.64951905866466"
      ],
      "text/latex": [
       "1.64951905866466"
      ],
      "text/markdown": [
       "1.64951905866466"
      ],
      "text/plain": [
       "[1] 1.649519"
      ]
     },
     "metadata": {},
     "output_type": "display_data"
    },
    {
     "data": {
      "text/html": [
       "1.63294055690953"
      ],
      "text/latex": [
       "1.63294055690953"
      ],
      "text/markdown": [
       "1.63294055690953"
      ],
      "text/plain": [
       "[1] 1.632941"
      ]
     },
     "metadata": {},
     "output_type": "display_data"
    }
   ],
   "source": [
    "mean(sample)\n",
    "sd(sample) # unbiased\n",
    "n <- length(sample)\n",
    "sd(sample)*sqrt((n-1)/n) # biased"
   ]
  },
  {
   "cell_type": "markdown",
   "metadata": {},
   "source": [
    "__Question 2:__"
   ]
  },
  {
   "cell_type": "code",
   "execution_count": 6,
   "metadata": {},
   "outputs": [
    {
     "data": {
      "text/html": [
       "1.12356664496327"
      ],
      "text/latex": [
       "1.12356664496327"
      ],
      "text/markdown": [
       "1.12356664496327"
      ],
      "text/plain": [
       "[1] 1.123567"
      ]
     },
     "metadata": {},
     "output_type": "display_data"
    },
    {
     "data": {
      "text/html": [
       "3.53679742611737"
      ],
      "text/latex": [
       "3.53679742611737"
      ],
      "text/markdown": [
       "3.53679742611737"
      ],
      "text/plain": [
       "[1] 3.536797"
      ]
     },
     "metadata": {},
     "output_type": "display_data"
    }
   ],
   "source": [
    "library(moments)\n",
    "skewness(sample)\n",
    "kurtosis(sample)"
   ]
  },
  {
   "cell_type": "markdown",
   "metadata": {},
   "source": [
    "__Question 3:__\n",
    "\n",
    "cf book"
   ]
  },
  {
   "cell_type": "markdown",
   "metadata": {},
   "source": [
    "__Question 4:__"
   ]
  },
  {
   "cell_type": "code",
   "execution_count": 7,
   "metadata": {},
   "outputs": [
    {
     "data": {
      "text/html": [
       "<ol class=list-inline>\n",
       "\t<li>0</li>\n",
       "\t<li>3</li>\n",
       "\t<li>6</li>\n",
       "\t<li>9</li>\n",
       "</ol>\n"
      ],
      "text/latex": [
       "\\begin{enumerate*}\n",
       "\\item 0\n",
       "\\item 3\n",
       "\\item 6\n",
       "\\item 9\n",
       "\\end{enumerate*}\n"
      ],
      "text/markdown": [
       "1. 0\n",
       "2. 3\n",
       "3. 6\n",
       "4. 9\n",
       "\n",
       "\n"
      ],
      "text/plain": [
       "[1] 0 3 6 9"
      ]
     },
     "metadata": {},
     "output_type": "display_data"
    },
    {
     "data": {
      "text/html": [
       "<ol class=list-inline>\n",
       "\t<li>37</li>\n",
       "\t<li>10</li>\n",
       "\t<li>3</li>\n",
       "</ol>\n"
      ],
      "text/latex": [
       "\\begin{enumerate*}\n",
       "\\item 37\n",
       "\\item 10\n",
       "\\item 3\n",
       "\\end{enumerate*}\n"
      ],
      "text/markdown": [
       "1. 37\n",
       "2. 10\n",
       "3. 3\n",
       "\n",
       "\n"
      ],
      "text/plain": [
       "[1] 37 10  3"
      ]
     },
     "metadata": {},
     "output_type": "display_data"
    },
    {
     "data": {
      "text/html": [
       "<ol class=list-inline>\n",
       "\t<li>0</li>\n",
       "\t<li>1.2</li>\n",
       "\t<li>2.4</li>\n",
       "\t<li>3.6</li>\n",
       "\t<li>4.8</li>\n",
       "\t<li>6</li>\n",
       "\t<li>7.2</li>\n",
       "</ol>\n"
      ],
      "text/latex": [
       "\\begin{enumerate*}\n",
       "\\item 0\n",
       "\\item 1.2\n",
       "\\item 2.4\n",
       "\\item 3.6\n",
       "\\item 4.8\n",
       "\\item 6\n",
       "\\item 7.2\n",
       "\\end{enumerate*}\n"
      ],
      "text/markdown": [
       "1. 0\n",
       "2. 1.2\n",
       "3. 2.4\n",
       "4. 3.6\n",
       "5. 4.8\n",
       "6. 6\n",
       "7. 7.2\n",
       "\n",
       "\n"
      ],
      "text/plain": [
       "[1] 0.0 1.2 2.4 3.6 4.8 6.0 7.2"
      ]
     },
     "metadata": {},
     "output_type": "display_data"
    },
    {
     "data": {
      "text/html": [
       "<ol class=list-inline>\n",
       "\t<li>16</li>\n",
       "\t<li>18</li>\n",
       "\t<li>5</li>\n",
       "\t<li>6</li>\n",
       "\t<li>2</li>\n",
       "\t<li>3</li>\n",
       "</ol>\n"
      ],
      "text/latex": [
       "\\begin{enumerate*}\n",
       "\\item 16\n",
       "\\item 18\n",
       "\\item 5\n",
       "\\item 6\n",
       "\\item 2\n",
       "\\item 3\n",
       "\\end{enumerate*}\n"
      ],
      "text/markdown": [
       "1. 16\n",
       "2. 18\n",
       "3. 5\n",
       "4. 6\n",
       "5. 2\n",
       "6. 3\n",
       "\n",
       "\n"
      ],
      "text/plain": [
       "[1] 16 18  5  6  2  3"
      ]
     },
     "metadata": {},
     "output_type": "display_data"
    },
    {
     "data": {
      "text/html": [
       "<ol class=list-inline>\n",
       "\t<li>0</li>\n",
       "\t<li>0.3</li>\n",
       "\t<li>0.6</li>\n",
       "\t<li>0.9</li>\n",
       "\t<li>1.2</li>\n",
       "\t<li>1.5</li>\n",
       "\t<li>1.8</li>\n",
       "\t<li>2.1</li>\n",
       "\t<li>2.4</li>\n",
       "\t<li>2.7</li>\n",
       "\t<li>3</li>\n",
       "\t<li>3.3</li>\n",
       "\t<li>3.6</li>\n",
       "\t<li>3.9</li>\n",
       "\t<li>4.2</li>\n",
       "\t<li>4.5</li>\n",
       "\t<li>4.8</li>\n",
       "\t<li>5.1</li>\n",
       "\t<li>5.4</li>\n",
       "\t<li>5.7</li>\n",
       "\t<li>6</li>\n",
       "\t<li>6.3</li>\n",
       "\t<li>6.6</li>\n",
       "</ol>\n"
      ],
      "text/latex": [
       "\\begin{enumerate*}\n",
       "\\item 0\n",
       "\\item 0.3\n",
       "\\item 0.6\n",
       "\\item 0.9\n",
       "\\item 1.2\n",
       "\\item 1.5\n",
       "\\item 1.8\n",
       "\\item 2.1\n",
       "\\item 2.4\n",
       "\\item 2.7\n",
       "\\item 3\n",
       "\\item 3.3\n",
       "\\item 3.6\n",
       "\\item 3.9\n",
       "\\item 4.2\n",
       "\\item 4.5\n",
       "\\item 4.8\n",
       "\\item 5.1\n",
       "\\item 5.4\n",
       "\\item 5.7\n",
       "\\item 6\n",
       "\\item 6.3\n",
       "\\item 6.6\n",
       "\\end{enumerate*}\n"
      ],
      "text/markdown": [
       "1. 0\n",
       "2. 0.3\n",
       "3. 0.6\n",
       "4. 0.9\n",
       "5. 1.2\n",
       "6. 1.5\n",
       "7. 1.8\n",
       "8. 2.1\n",
       "9. 2.4\n",
       "10. 2.7\n",
       "11. 3\n",
       "12. 3.3\n",
       "13. 3.6\n",
       "14. 3.9\n",
       "15. 4.2\n",
       "16. 4.5\n",
       "17. 4.8\n",
       "18. 5.1\n",
       "19. 5.4\n",
       "20. 5.7\n",
       "21. 6\n",
       "22. 6.3\n",
       "23. 6.6\n",
       "\n",
       "\n"
      ],
      "text/plain": [
       " [1] 0.0 0.3 0.6 0.9 1.2 1.5 1.8 2.1 2.4 2.7 3.0 3.3 3.6 3.9 4.2 4.5 4.8 5.1 5.4\n",
       "[20] 5.7 6.0 6.3 6.6"
      ]
     },
     "metadata": {},
     "output_type": "display_data"
    },
    {
     "data": {
      "text/html": [
       "<ol class=list-inline>\n",
       "\t<li>1</li>\n",
       "\t<li>3</li>\n",
       "\t<li>6</li>\n",
       "\t<li>6</li>\n",
       "\t<li>3</li>\n",
       "\t<li>7</li>\n",
       "\t<li>6</li>\n",
       "\t<li>2</li>\n",
       "\t<li>2</li>\n",
       "\t<li>1</li>\n",
       "\t<li>1</li>\n",
       "\t<li>1</li>\n",
       "\t<li>2</li>\n",
       "\t<li>3</li>\n",
       "\t<li>1</li>\n",
       "\t<li>0</li>\n",
       "\t<li>2</li>\n",
       "\t<li>0</li>\n",
       "\t<li>0</li>\n",
       "\t<li>0</li>\n",
       "\t<li>0</li>\n",
       "\t<li>3</li>\n",
       "</ol>\n"
      ],
      "text/latex": [
       "\\begin{enumerate*}\n",
       "\\item 1\n",
       "\\item 3\n",
       "\\item 6\n",
       "\\item 6\n",
       "\\item 3\n",
       "\\item 7\n",
       "\\item 6\n",
       "\\item 2\n",
       "\\item 2\n",
       "\\item 1\n",
       "\\item 1\n",
       "\\item 1\n",
       "\\item 2\n",
       "\\item 3\n",
       "\\item 1\n",
       "\\item 0\n",
       "\\item 2\n",
       "\\item 0\n",
       "\\item 0\n",
       "\\item 0\n",
       "\\item 0\n",
       "\\item 3\n",
       "\\end{enumerate*}\n"
      ],
      "text/markdown": [
       "1. 1\n",
       "2. 3\n",
       "3. 6\n",
       "4. 6\n",
       "5. 3\n",
       "6. 7\n",
       "7. 6\n",
       "8. 2\n",
       "9. 2\n",
       "10. 1\n",
       "11. 1\n",
       "12. 1\n",
       "13. 2\n",
       "14. 3\n",
       "15. 1\n",
       "16. 0\n",
       "17. 2\n",
       "18. 0\n",
       "19. 0\n",
       "20. 0\n",
       "21. 0\n",
       "22. 3\n",
       "\n",
       "\n"
      ],
      "text/plain": [
       " [1] 1 3 6 6 3 7 6 2 2 1 1 1 2 3 1 0 2 0 0 0 0 3"
      ]
     },
     "metadata": {},
     "output_type": "display_data"
    },
    {
     "data": {
      "image/png": "[encoded data removed]",
      "text/plain": [
       "Plot with title “Histogram of sample”"
      ]
     },
     "metadata": {},
     "output_type": "display_data"
    }
   ],
   "source": [
    "# These first two lines are to configure the graphical representation\n",
    "library(repr)\n",
    "options(repr.plot.width=9, repr.plot.height=4)\n",
    "\n",
    "# This function computes the number of bins and maxval of the histogram\n",
    "myfunction <- function(sample, binWidth){\n",
    "    max(sample)\n",
    "    max(sample)/w\n",
    "    nBins <- ceiling(max(sample)/w)\n",
    "    maxVal <- nBins*w\n",
    "    return(c(nBins, maxVal))\n",
    "}\n",
    "\n",
    "# This splits the graphics window into 3 pads\n",
    "par(mfrow = c(1, 3))\n",
    "\n",
    "w <- 3\n",
    "res <- myfunction(sample, w)\n",
    "h1 <- hist(sample, breaks=seq(0, res[2], length.out=res[1]+1))\n",
    "h1$breaks\n",
    "h1$counts\n",
    "\n",
    "w <- 1.2\n",
    "res <- myfunction(sample, w)\n",
    "h2 <- hist(sample, breaks=seq(0, res[2], length.out=res[1]+1))\n",
    "h2$breaks\n",
    "h2$counts\n",
    "\n",
    "w <- 0.3\n",
    "res <- myfunction(sample, w)\n",
    "h3 <- hist(sample, breaks=seq(0, res[2], length.out=res[1]+1))\n",
    "h3$breaks\n",
    "h3$counts"
   ]
  },
  {
   "cell_type": "markdown",
   "metadata": {},
   "source": [
    "__Question 5:__\n",
    "\n",
    "First, let's see what quantities are available for each histogram:"
   ]
  },
  {
   "cell_type": "code",
   "execution_count": 8,
   "metadata": {},
   "outputs": [
    {
     "data": {
      "text/plain": [
       "$breaks\n",
       "[1] 0 3 6 9\n",
       "\n",
       "$counts\n",
       "[1] 37 10  3\n",
       "\n",
       "$density\n",
       "[1] 0.24666667 0.06666667 0.02000000\n",
       "\n",
       "$mids\n",
       "[1] 1.5 4.5 7.5\n",
       "\n",
       "$xname\n",
       "[1] \"sample\"\n",
       "\n",
       "$equidist\n",
       "[1] TRUE\n",
       "\n",
       "attr(,\"class\")\n",
       "[1] \"histogram\""
      ]
     },
     "metadata": {},
     "output_type": "display_data"
    }
   ],
   "source": [
    "h1"
   ]
  },
  {
   "cell_type": "code",
   "execution_count": 9,
   "metadata": {},
   "outputs": [
    {
     "data": {
      "text/html": [
       "2.46"
      ],
      "text/latex": [
       "2.46"
      ],
      "text/markdown": [
       "2.46"
      ],
      "text/plain": [
       "[1] 2.46"
      ]
     },
     "metadata": {},
     "output_type": "display_data"
    },
    {
     "data": {
      "text/html": [
       "2.256"
      ],
      "text/latex": [
       "2.256"
      ],
      "text/markdown": [
       "2.256"
      ],
      "text/plain": [
       "[1] 2.256"
      ]
     },
     "metadata": {},
     "output_type": "display_data"
    },
    {
     "data": {
      "text/html": [
       "2.238"
      ],
      "text/latex": [
       "2.238"
      ],
      "text/markdown": [
       "2.238"
      ],
      "text/plain": [
       "[1] 2.238"
      ]
     },
     "metadata": {},
     "output_type": "display_data"
    },
    {
     "data": {
      "text/html": [
       "1.74310068556007"
      ],
      "text/latex": [
       "1.74310068556007"
      ],
      "text/markdown": [
       "1.74310068556007"
      ],
      "text/plain": [
       "[1] 1.743101"
      ]
     },
     "metadata": {},
     "output_type": "display_data"
    },
    {
     "data": {
      "text/html": [
       "1.72883313249139"
      ],
      "text/latex": [
       "1.72883313249139"
      ],
      "text/markdown": [
       "1.72883313249139"
      ],
      "text/plain": [
       "[1] 1.728833"
      ]
     },
     "metadata": {},
     "output_type": "display_data"
    },
    {
     "data": {
      "text/html": [
       "1.61661869344629"
      ],
      "text/latex": [
       "1.61661869344629"
      ],
      "text/markdown": [
       "1.61661869344629"
      ],
      "text/plain": [
       "[1] 1.616619"
      ]
     },
     "metadata": {},
     "output_type": "display_data"
    }
   ],
   "source": [
    "meanh1 <- 1/n*sum(h1$counts*h1$mids)\n",
    "meanh1\n",
    "meanh2 <- 1/n*sum(h2$counts*h2$mids)\n",
    "meanh2\n",
    "meanh3 <- 1/n*sum(h3$counts*h3$mids)\n",
    "meanh3\n",
    "\n",
    "sdh1 <- sqrt(1/n*sum(h1$counts*(h1$mids-meanh1)^2))\n",
    "sdh1\n",
    "sdh2 <- sqrt(1/n*sum(h2$counts*(h2$mids-meanh2)^2))\n",
    "sdh2\n",
    "sdh3 <- sqrt(1/n*sum(h3$counts*(h3$mids-meanh3)^2))\n",
    "sdh3"
   ]
  },
  {
   "cell_type": "markdown",
   "metadata": {},
   "source": [
    "__Question 6:__"
   ]
  },
  {
   "cell_type": "code",
   "execution_count": 10,
   "metadata": {},
   "outputs": [
    {
     "data": {
      "text/html": [
       "1.7375"
      ],
      "text/latex": [
       "1.7375"
      ],
      "text/markdown": [
       "1.7375"
      ],
      "text/plain": [
       "[1] 1.7375"
      ]
     },
     "metadata": {},
     "output_type": "display_data"
    }
   ],
   "source": [
    "# From sample\n",
    "medianSample <- median(sample)\n",
    "medianSample"
   ]
  },
  {
   "cell_type": "markdown",
   "metadata": {},
   "source": [
    "# I.4 Regression lineraire (p.28)"
   ]
  },
  {
   "cell_type": "code",
   "execution_count": 11,
   "metadata": {},
   "outputs": [
    {
     "data": {
      "image/png": "[encoded data removed]",
      "text/plain": [
       "plot without title"
      ]
     },
     "metadata": {},
     "output_type": "display_data"
    }
   ],
   "source": [
    "U <- c(0.204, 1.23, 2.04, 3.48, 4.83)\n",
    "I <- c(1.05, 2.72, 5.02, 6.59, 10.9)\n",
    "I <- I*1e-3\n",
    "options(repr.plot.width=5, repr.plot.height=4)\n",
    "plot(I, U)\n",
    "\n",
    "n <- length(U)"
   ]
  },
  {
   "cell_type": "markdown",
   "metadata": {},
   "source": [
    "__Question 1:__"
   ]
  },
  {
   "cell_type": "code",
   "execution_count": 12,
   "metadata": {},
   "outputs": [
    {
     "data": {
      "text/html": [
       "474.715092372273"
      ],
      "text/latex": [
       "474.715092372273"
      ],
      "text/markdown": [
       "474.715092372273"
      ],
      "text/plain": [
       "[1] 474.7151"
      ]
     },
     "metadata": {},
     "output_type": "display_data"
    },
    {
     "data": {
      "text/html": [
       "-0.138302525508669"
      ],
      "text/latex": [
       "-0.138302525508669"
      ],
      "text/markdown": [
       "-0.138302525508669"
      ],
      "text/plain": [
       "[1] -0.1383025"
      ]
     },
     "metadata": {},
     "output_type": "display_data"
    },
    {
     "data": {
      "text/html": [
       "0.973491647160673"
      ],
      "text/latex": [
       "0.973491647160673"
      ],
      "text/markdown": [
       "0.973491647160673"
      ],
      "text/plain": [
       "[1] 0.9734916"
      ]
     },
     "metadata": {},
     "output_type": "display_data"
    }
   ],
   "source": [
    "a <- (n*sum(U*I)-sum(U)*sum(I))/(n*sum(I^2) - sum(I)^2)\n",
    "a\n",
    "b <- 1/n*(sum(U)-a*sum(I))\n",
    "b\n",
    "r <- a*sd(I)/sd(U)\n",
    "r^2"
   ]
  },
  {
   "cell_type": "markdown",
   "metadata": {},
   "source": [
    "__Question 2:__"
   ]
  },
  {
   "cell_type": "code",
   "execution_count": 13,
   "metadata": {},
   "outputs": [
    {
     "data": {
      "text/html": [
       "456.165528729801"
      ],
      "text/latex": [
       "456.165528729801"
      ],
      "text/markdown": [
       "456.165528729801"
      ],
      "text/plain": [
       "[1] 456.1655"
      ]
     },
     "metadata": {},
     "output_type": "display_data"
    }
   ],
   "source": [
    "a2 <- sum(U*I)/sum(I^2)\n",
    "a2"
   ]
  },
  {
   "cell_type": "markdown",
   "metadata": {},
   "source": [
    "__Question 3:__\n",
    "\n",
    "Same as question 1, inverting U and I"
   ]
  },
  {
   "cell_type": "code",
   "execution_count": 14,
   "metadata": {},
   "outputs": [
    {
     "data": {
      "text/html": [
       "0.00205068611216021"
      ],
      "text/latex": [
       "0.00205068611216021"
      ],
      "text/markdown": [
       "0.00205068611216021"
      ],
      "text/plain": [
       "[1] 0.002050686"
      ]
     },
     "metadata": {},
     "output_type": "display_data"
    },
    {
     "data": {
      "text/html": [
       "0.000422942970860814"
      ],
      "text/latex": [
       "0.000422942970860814"
      ],
      "text/markdown": [
       "0.000422942970860814"
      ],
      "text/plain": [
       "[1] 0.000422943"
      ]
     },
     "metadata": {},
     "output_type": "display_data"
    },
    {
     "data": {
      "text/html": [
       "487.641669814885"
      ],
      "text/latex": [
       "487.641669814885"
      ],
      "text/markdown": [
       "487.641669814885"
      ],
      "text/plain": [
       "[1] 487.6417"
      ]
     },
     "metadata": {},
     "output_type": "display_data"
    }
   ],
   "source": [
    "a3 <- (n*sum(U*I)-sum(U)*sum(I))/(n*sum(U^2) - sum(U)^2)\n",
    "a3\n",
    "b3 <- 1/n*(sum(I)-a3*sum(U))\n",
    "b3\n",
    "1/a3"
   ]
  },
  {
   "cell_type": "markdown",
   "metadata": {},
   "source": [
    "### Example from core of book (not an exercice from the exercices sections)\n",
    "\n",
    "#### Example at section 9.3 (p. 90)\n",
    "\n",
    "The following is an example of $K^2$ and KS test with R. It is the R application of the exemple at section 9.3 of B. Clement's book (p.90) "
   ]
  },
  {
   "cell_type": "code",
   "execution_count": 15,
   "metadata": {},
   "outputs": [
    {
     "data": {
      "text/html": [
       "9"
      ],
      "text/latex": [
       "9"
      ],
      "text/markdown": [
       "9"
      ],
      "text/plain": [
       "[1] 9"
      ]
     },
     "metadata": {},
     "output_type": "display_data"
    },
    {
     "data": {
      "text/html": [
       "<ol class=list-inline>\n",
       "\t<li>0</li>\n",
       "\t<li>1.25</li>\n",
       "\t<li>2.5</li>\n",
       "\t<li>3.75</li>\n",
       "\t<li>5</li>\n",
       "\t<li>6.25</li>\n",
       "\t<li>7.5</li>\n",
       "\t<li>8.75</li>\n",
       "\t<li>10</li>\n",
       "\t<li>Inf</li>\n",
       "</ol>\n"
      ],
      "text/latex": [
       "\\begin{enumerate*}\n",
       "\\item 0\n",
       "\\item 1.25\n",
       "\\item 2.5\n",
       "\\item 3.75\n",
       "\\item 5\n",
       "\\item 6.25\n",
       "\\item 7.5\n",
       "\\item 8.75\n",
       "\\item 10\n",
       "\\item Inf\n",
       "\\end{enumerate*}\n"
      ],
      "text/markdown": [
       "1. 0\n",
       "2. 1.25\n",
       "3. 2.5\n",
       "4. 3.75\n",
       "5. 5\n",
       "6. 6.25\n",
       "7. 7.5\n",
       "8. 8.75\n",
       "9. 10\n",
       "10. Inf\n",
       "\n",
       "\n"
      ],
      "text/plain": [
       " [1]  0.00  1.25  2.50  3.75  5.00  6.25  7.50  8.75 10.00   Inf"
      ]
     },
     "metadata": {},
     "output_type": "display_data"
    },
    {
     "data": {
      "text/html": [
       "<ol class=list-inline>\n",
       "\t<li>46</li>\n",
       "\t<li>28</li>\n",
       "\t<li>15</li>\n",
       "\t<li>13</li>\n",
       "\t<li>6</li>\n",
       "\t<li>2</li>\n",
       "\t<li>7</li>\n",
       "\t<li>1</li>\n",
       "\t<li>2</li>\n",
       "</ol>\n"
      ],
      "text/latex": [
       "\\begin{enumerate*}\n",
       "\\item 46\n",
       "\\item 28\n",
       "\\item 15\n",
       "\\item 13\n",
       "\\item 6\n",
       "\\item 2\n",
       "\\item 7\n",
       "\\item 1\n",
       "\\item 2\n",
       "\\end{enumerate*}\n"
      ],
      "text/markdown": [
       "1. 46\n",
       "2. 28\n",
       "3. 15\n",
       "4. 13\n",
       "5. 6\n",
       "6. 2\n",
       "7. 7\n",
       "8. 1\n",
       "9. 2\n",
       "\n",
       "\n"
      ],
      "text/plain": [
       "[1] 46 28 15 13  6  2  7  1  2"
      ]
     },
     "metadata": {},
     "output_type": "display_data"
    },
    {
     "data": {
      "text/html": [
       "<ol class=list-inline>\n",
       "\t<li>47.216320834484</li>\n",
       "\t<li>28.6381462249429</li>\n",
       "\t<li>17.3699137227615</li>\n",
       "\t<li>10.5353852294181</li>\n",
       "\t<li>6.39003415352568</li>\n",
       "\t<li>3.87575163072417</li>\n",
       "\t<li>2.35076219346546</li>\n",
       "\t<li>1.42580934403011</li>\n",
       "\t<li>2.19787666664811</li>\n",
       "</ol>\n"
      ],
      "text/latex": [
       "\\begin{enumerate*}\n",
       "\\item 47.216320834484\n",
       "\\item 28.6381462249429\n",
       "\\item 17.3699137227615\n",
       "\\item 10.5353852294181\n",
       "\\item 6.39003415352568\n",
       "\\item 3.87575163072417\n",
       "\\item 2.35076219346546\n",
       "\\item 1.42580934403011\n",
       "\\item 2.19787666664811\n",
       "\\end{enumerate*}\n"
      ],
      "text/markdown": [
       "1. 47.216320834484\n",
       "2. 28.6381462249429\n",
       "3. 17.3699137227615\n",
       "4. 10.5353852294181\n",
       "5. 6.39003415352568\n",
       "6. 3.87575163072417\n",
       "7. 2.35076219346546\n",
       "8. 1.42580934403011\n",
       "9. 2.19787666664811\n",
       "\n",
       "\n"
      ],
      "text/plain": [
       "[1] 47.216321 28.638146 17.369914 10.535385  6.390034  3.875752  2.350762\n",
       "[8]  1.425809  2.197877"
      ]
     },
     "metadata": {},
     "output_type": "display_data"
    },
    {
     "data": {
      "text/html": [
       "<ol class=list-inline>\n",
       "\t<li>0.0313331565495321</li>\n",
       "\t<li>0.0142198660908514</li>\n",
       "\t<li>0.323345938441448</li>\n",
       "\t<li>0.576564201032661</li>\n",
       "\t<li>0.0238068588150747</li>\n",
       "\t<li>0.907809507779781</li>\n",
       "\t<li>9.19506543103156</li>\n",
       "\t<li>0.127165387309683</li>\n",
       "\t<li>0.0178150010862438</li>\n",
       "</ol>\n"
      ],
      "text/latex": [
       "\\begin{enumerate*}\n",
       "\\item 0.0313331565495321\n",
       "\\item 0.0142198660908514\n",
       "\\item 0.323345938441448\n",
       "\\item 0.576564201032661\n",
       "\\item 0.0238068588150747\n",
       "\\item 0.907809507779781\n",
       "\\item 9.19506543103156\n",
       "\\item 0.127165387309683\n",
       "\\item 0.0178150010862438\n",
       "\\end{enumerate*}\n"
      ],
      "text/markdown": [
       "1. 0.0313331565495321\n",
       "2. 0.0142198660908514\n",
       "3. 0.323345938441448\n",
       "4. 0.576564201032661\n",
       "5. 0.0238068588150747\n",
       "6. 0.907809507779781\n",
       "7. 9.19506543103156\n",
       "8. 0.127165387309683\n",
       "9. 0.0178150010862438\n",
       "\n",
       "\n"
      ],
      "text/plain": [
       "[1] 0.03133316 0.01421987 0.32334594 0.57656420 0.02380686 0.90780951 9.19506543\n",
       "[8] 0.12716539 0.01781500"
      ]
     },
     "metadata": {},
     "output_type": "display_data"
    },
    {
     "data": {
      "text/html": [
       "11.2171253481368"
      ],
      "text/latex": [
       "11.2171253481368"
      ],
      "text/markdown": [
       "11.2171253481368"
      ],
      "text/plain": [
       "[1] 11.21713"
      ]
     },
     "metadata": {},
     "output_type": "display_data"
    },
    {
     "data": {
      "image/png": "[encoded data removed]",
      "text/plain": [
       "Plot with title “ecdf(sample)”"
      ]
     },
     "metadata": {},
     "output_type": "display_data"
    }
   ],
   "source": [
    "par(mfrow = c(1,2))\n",
    "options(repr.plot.width=8, repr.plot.height=4)\n",
    "\n",
    "sample = c(0.008, 0.036, 0.112, 0.115, 0.133, 0.178, 0.189, 0.238, \n",
    "           0.274, 0.323, 0.364, 0.386, 0.406, 0.409, 0.418, 0.421, \n",
    "           0.423, 0.455, 0.459, 0.496, 0.519, 0.522, 0.534, 0.582, \n",
    "           0.606, 0.624, 0.649, 0.687, 0.689, 0.764, 0.768, 0.774, \n",
    "           0.825, 0.843, 0.921, 0.987, 0.992, 1.003, 1.004, 1.015, \n",
    "           1.034, 1.064, 1.112, 1.159, 1.163, 1.208, 1.253, 1.287, \n",
    "           1.317, 1.320, 1.333, 1.412, 1.421, 1.438, 1.574, 1.719, \n",
    "           1.769, 1.830, 1.853, 1.930, 2.041, 2.053, 2.119, 2.146, \n",
    "           2.167, 2.237, 2.243, 2.249, 2.318, 2.325, 2.349, 2.372, \n",
    "           2.465, 2.497, 2.553, 2.562, 2.616, 2.739, 2.851, 3.029, \n",
    "           3.327, 3.335, 3.390, 3.447, 3.473, 3.568, 3.627, 3.718, \n",
    "           3.720, 3.814, 3.854, 3.929, 4.038, 4.065, 4.089, 4.177, \n",
    "           4.357, 4.403, 4.514, 4.771, 4.809, 4.827, 5.086, 5.191, \n",
    "           5.928, 5.952, 5.968, 6.222, 6.556, 6.670, 7.673, 8.071, \n",
    "           8.165, 8.181, 8.383, 8.557, 8.606, 9.032, 10.482, 14.174)\n",
    "\n",
    "n = length(sample)\n",
    "breaks=seq(0, 10, by=1.25)\n",
    "breaks <- c(breaks, Inf)\n",
    "h <- hist(sample, xlim=c(0, 10), breaks=breaks)\n",
    "     \n",
    "nbins = length(h$breaks)-1\n",
    "nbins\n",
    "\n",
    "h$breaks\n",
    "nj = h$counts[1:nbins]\n",
    "npj = n*(pexp(h$breaks[2:(nbins+1)], rate=0.4)-pexp(h$breaks[1:nbins], rate=0.4))\n",
    "Kj = (nj - npj)^2/npj\n",
    "\n",
    "nj\n",
    "npj\n",
    "Kj\n",
    "sum(Kj)\n",
    "\n",
    "plot(ecdf(sample), cex=0.3)\n",
    "curve(pexp(x, rate=0.4), add=T)\n",
    "grid()"
   ]
  },
  {
   "cell_type": "markdown",
   "metadata": {
    "collapsed": true
   },
   "source": [
    "#### Example at section 10.3.2 (p.98)"
   ]
  },
  {
   "cell_type": "code",
   "execution_count": 48,
   "metadata": {},
   "outputs": [
    {
     "data": {
      "text/plain": [
       "\n",
       "Call:\n",
       "lm(formula = y ~ x, data = ds)\n",
       "\n",
       "Residuals:\n",
       "     1      2      3      4 \n",
       " 0.894  3.882 -9.631  4.855 \n",
       "\n",
       "Coefficients:\n",
       "            Estimate Std. Error t value Pr(>|t|)\n",
       "(Intercept)   -4.904      8.961  -0.547    0.639\n",
       "x              5.010      2.730   1.835    0.208\n",
       "\n",
       "Residual standard error: 8.13 on 2 degrees of freedom\n",
       "Multiple R-squared:  0.6274,\tAdjusted R-squared:  0.4411 \n",
       "F-statistic: 3.367 on 1 and 2 DF,  p-value: 0.2079\n"
      ]
     },
     "metadata": {},
     "output_type": "display_data"
    },
    {
     "data": {
      "text/html": [
       "0.7920737777257"
      ],
      "text/latex": [
       "0.7920737777257"
      ],
      "text/markdown": [
       "0.7920737777257"
      ],
      "text/plain": [
       "[1] 0.7920738"
      ]
     },
     "metadata": {},
     "output_type": "display_data"
    },
    {
     "data": {
      "text/plain": [
       "\n",
       "Call:\n",
       "lm(formula = y ~ x, data = ds, weights = 1/dy^2)\n",
       "\n",
       "Weighted Residuals:\n",
       "      1       2       3       4 \n",
       "-0.1273  0.8673 -1.3067 -0.0581 \n",
       "\n",
       "Coefficients:\n",
       "            Estimate Std. Error t value Pr(>|t|)   \n",
       "(Intercept)  -4.9379     0.7695  -6.417  0.02343 * \n",
       "x             6.0015     0.3595  16.693  0.00357 **\n",
       "---\n",
       "Signif. codes:  0 ‘***’ 0.001 ‘**’ 0.01 ‘*’ 0.05 ‘.’ 0.1 ‘ ’ 1\n",
       "\n",
       "Residual standard error: 1.113 on 2 degrees of freedom\n",
       "Multiple R-squared:  0.9929,\tAdjusted R-squared:  0.9893 \n",
       "F-statistic: 278.7 on 1 and 2 DF,  p-value: 0.00357\n"
      ]
     },
     "metadata": {},
     "output_type": "display_data"
    },
    {
     "data": {
      "image/png": "[encoded data removed]",
      "text/plain": [
       "plot without title"
      ]
     },
     "metadata": {},
     "output_type": "display_data"
    }
   ],
   "source": [
    "x = c(1, 2.2, 3.5, 5)\n",
    "y = c(1, 10, 3, 25)\n",
    "dy = c(0.5, 2, 10, 1.2)\n",
    "\n",
    "options(repr.plot.width=4, repr.plot.height=4)\n",
    "plot(x, y, ylim=c(-11, 30), xlim=c(0, 6), cex=0.5)\n",
    "arrows(x, y-dy, x, y+dy, angle=90, code=3, length=0.05)\n",
    "grid()       \n",
    "\n",
    "ds <- data.frame(x = x, y = y, dy = dy)\n",
    "\n",
    "# Linear regression\n",
    "model = lm(y~x, data=ds)\n",
    "summary(model)\n",
    "rsq = summary(model)$r.squared\n",
    "sqrt(rsq)\n",
    "abline(model)\n",
    "\n",
    "model2 = lm(y~x, data=ds, weights=1/dy^2)\n",
    "summary(model2)\n",
    "abline(model2, lty=2)"
   ]
  },
  {
   "cell_type": "code",
   "execution_count": null,
   "metadata": {
    "collapsed": true
   },
   "outputs": [],
   "source": []
  }
 ],
 "metadata": {
  "kernelspec": {
   "display_name": "R",
   "language": "R",
   "name": "ir"
  },
  "language_info": {
   "codemirror_mode": "r",
   "file_extension": ".r",
   "mimetype": "text/x-r-source",
   "name": "R",
   "pygments_lexer": "r",
   "version": "3.3.2"
  }
 },
 "nbformat": 4,
 "nbformat_minor": 2
}
