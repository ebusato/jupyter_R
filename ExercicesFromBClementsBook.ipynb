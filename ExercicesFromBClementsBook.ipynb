{
 "cells": [
  {
   "cell_type": "markdown",
   "metadata": {},
   "source": [
    "In this notebook, we use R to solve some problems from Benoit Clement's book"
   ]
  },
  {
   "cell_type": "markdown",
   "metadata": {},
   "source": [
    "### Example from core of book (not an exercice from the exercices sections)\n",
    "\n",
    "#### Example at section 9.3 (p. 90)\n",
    "\n",
    "The following is an example of $K^2$ and KS test with R. It is the R application of the exemple at section 9.3 of B. Clement's book (p.90) "
   ]
  },
  {
   "cell_type": "code",
   "execution_count": 15,
   "metadata": {},
   "outputs": [
    {
     "data": {
      "text/html": [
       "9"
      ],
      "text/latex": [
       "9"
      ],
      "text/markdown": [
       "9"
      ],
      "text/plain": [
       "[1] 9"
      ]
     },
     "metadata": {},
     "output_type": "display_data"
    },
    {
     "data": {
      "text/html": [
       "<ol class=list-inline>\n",
       "\t<li>0</li>\n",
       "\t<li>1.25</li>\n",
       "\t<li>2.5</li>\n",
       "\t<li>3.75</li>\n",
       "\t<li>5</li>\n",
       "\t<li>6.25</li>\n",
       "\t<li>7.5</li>\n",
       "\t<li>8.75</li>\n",
       "\t<li>10</li>\n",
       "\t<li>Inf</li>\n",
       "</ol>\n"
      ],
      "text/latex": [
       "\\begin{enumerate*}\n",
       "\\item 0\n",
       "\\item 1.25\n",
       "\\item 2.5\n",
       "\\item 3.75\n",
       "\\item 5\n",
       "\\item 6.25\n",
       "\\item 7.5\n",
       "\\item 8.75\n",
       "\\item 10\n",
       "\\item Inf\n",
       "\\end{enumerate*}\n"
      ],
      "text/markdown": [
       "1. 0\n",
       "2. 1.25\n",
       "3. 2.5\n",
       "4. 3.75\n",
       "5. 5\n",
       "6. 6.25\n",
       "7. 7.5\n",
       "8. 8.75\n",
       "9. 10\n",
       "10. Inf\n",
       "\n",
       "\n"
      ],
      "text/plain": [
       " [1]  0.00  1.25  2.50  3.75  5.00  6.25  7.50  8.75 10.00   Inf"
      ]
     },
     "metadata": {},
     "output_type": "display_data"
    },
    {
     "data": {
      "text/html": [
       "<ol class=list-inline>\n",
       "\t<li>46</li>\n",
       "\t<li>28</li>\n",
       "\t<li>15</li>\n",
       "\t<li>13</li>\n",
       "\t<li>6</li>\n",
       "\t<li>2</li>\n",
       "\t<li>7</li>\n",
       "\t<li>1</li>\n",
       "\t<li>2</li>\n",
       "</ol>\n"
      ],
      "text/latex": [
       "\\begin{enumerate*}\n",
       "\\item 46\n",
       "\\item 28\n",
       "\\item 15\n",
       "\\item 13\n",
       "\\item 6\n",
       "\\item 2\n",
       "\\item 7\n",
       "\\item 1\n",
       "\\item 2\n",
       "\\end{enumerate*}\n"
      ],
      "text/markdown": [
       "1. 46\n",
       "2. 28\n",
       "3. 15\n",
       "4. 13\n",
       "5. 6\n",
       "6. 2\n",
       "7. 7\n",
       "8. 1\n",
       "9. 2\n",
       "\n",
       "\n"
      ],
      "text/plain": [
       "[1] 46 28 15 13  6  2  7  1  2"
      ]
     },
     "metadata": {},
     "output_type": "display_data"
    },
    {
     "data": {
      "text/html": [
       "<ol class=list-inline>\n",
       "\t<li>47.216320834484</li>\n",
       "\t<li>28.6381462249429</li>\n",
       "\t<li>17.3699137227615</li>\n",
       "\t<li>10.5353852294181</li>\n",
       "\t<li>6.39003415352568</li>\n",
       "\t<li>3.87575163072417</li>\n",
       "\t<li>2.35076219346546</li>\n",
       "\t<li>1.42580934403011</li>\n",
       "\t<li>2.19787666664811</li>\n",
       "</ol>\n"
      ],
      "text/latex": [
       "\\begin{enumerate*}\n",
       "\\item 47.216320834484\n",
       "\\item 28.6381462249429\n",
       "\\item 17.3699137227615\n",
       "\\item 10.5353852294181\n",
       "\\item 6.39003415352568\n",
       "\\item 3.87575163072417\n",
       "\\item 2.35076219346546\n",
       "\\item 1.42580934403011\n",
       "\\item 2.19787666664811\n",
       "\\end{enumerate*}\n"
      ],
      "text/markdown": [
       "1. 47.216320834484\n",
       "2. 28.6381462249429\n",
       "3. 17.3699137227615\n",
       "4. 10.5353852294181\n",
       "5. 6.39003415352568\n",
       "6. 3.87575163072417\n",
       "7. 2.35076219346546\n",
       "8. 1.42580934403011\n",
       "9. 2.19787666664811\n",
       "\n",
       "\n"
      ],
      "text/plain": [
       "[1] 47.216321 28.638146 17.369914 10.535385  6.390034  3.875752  2.350762\n",
       "[8]  1.425809  2.197877"
      ]
     },
     "metadata": {},
     "output_type": "display_data"
    },
    {
     "data": {
      "text/html": [
       "<ol class=list-inline>\n",
       "\t<li>0.0313331565495321</li>\n",
       "\t<li>0.0142198660908514</li>\n",
       "\t<li>0.323345938441448</li>\n",
       "\t<li>0.576564201032661</li>\n",
       "\t<li>0.0238068588150747</li>\n",
       "\t<li>0.907809507779781</li>\n",
       "\t<li>9.19506543103156</li>\n",
       "\t<li>0.127165387309683</li>\n",
       "\t<li>0.0178150010862438</li>\n",
       "</ol>\n"
      ],
      "text/latex": [
       "\\begin{enumerate*}\n",
       "\\item 0.0313331565495321\n",
       "\\item 0.0142198660908514\n",
       "\\item 0.323345938441448\n",
       "\\item 0.576564201032661\n",
       "\\item 0.0238068588150747\n",
       "\\item 0.907809507779781\n",
       "\\item 9.19506543103156\n",
       "\\item 0.127165387309683\n",
       "\\item 0.0178150010862438\n",
       "\\end{enumerate*}\n"
      ],
      "text/markdown": [
       "1. 0.0313331565495321\n",
       "2. 0.0142198660908514\n",
       "3. 0.323345938441448\n",
       "4. 0.576564201032661\n",
       "5. 0.0238068588150747\n",
       "6. 0.907809507779781\n",
       "7. 9.19506543103156\n",
       "8. 0.127165387309683\n",
       "9. 0.0178150010862438\n",
       "\n",
       "\n"
      ],
      "text/plain": [
       "[1] 0.03133316 0.01421987 0.32334594 0.57656420 0.02380686 0.90780951 9.19506543\n",
       "[8] 0.12716539 0.01781500"
      ]
     },
     "metadata": {},
     "output_type": "display_data"
    },
    {
     "data": {
      "text/html": [
       "11.2171253481368"
      ],
      "text/latex": [
       "11.2171253481368"
      ],
      "text/markdown": [
       "11.2171253481368"
      ],
      "text/plain": [
       "[1] 11.21713"
      ]
     },
     "metadata": {},
     "output_type": "display_data"
    },
    {
     "data": {
      "image/png": "[encoded data removed]",
      "text/plain": [
       "Plot with title “ecdf(sample)”"
      ]
     },
     "metadata": {},
     "output_type": "display_data"
    }
   ],
   "source": [
    "par(mfrow = c(1,2))\n",
    "options(repr.plot.width=8, repr.plot.height=4)\n",
    "\n",
    "sample = c(0.008, 0.036, 0.112, 0.115, 0.133, 0.178, 0.189, 0.238, \n",
    "           0.274, 0.323, 0.364, 0.386, 0.406, 0.409, 0.418, 0.421, \n",
    "           0.423, 0.455, 0.459, 0.496, 0.519, 0.522, 0.534, 0.582, \n",
    "           0.606, 0.624, 0.649, 0.687, 0.689, 0.764, 0.768, 0.774, \n",
    "           0.825, 0.843, 0.921, 0.987, 0.992, 1.003, 1.004, 1.015, \n",
    "           1.034, 1.064, 1.112, 1.159, 1.163, 1.208, 1.253, 1.287, \n",
    "           1.317, 1.320, 1.333, 1.412, 1.421, 1.438, 1.574, 1.719, \n",
    "           1.769, 1.830, 1.853, 1.930, 2.041, 2.053, 2.119, 2.146, \n",
    "           2.167, 2.237, 2.243, 2.249, 2.318, 2.325, 2.349, 2.372, \n",
    "           2.465, 2.497, 2.553, 2.562, 2.616, 2.739, 2.851, 3.029, \n",
    "           3.327, 3.335, 3.390, 3.447, 3.473, 3.568, 3.627, 3.718, \n",
    "           3.720, 3.814, 3.854, 3.929, 4.038, 4.065, 4.089, 4.177, \n",
    "           4.357, 4.403, 4.514, 4.771, 4.809, 4.827, 5.086, 5.191, \n",
    "           5.928, 5.952, 5.968, 6.222, 6.556, 6.670, 7.673, 8.071, \n",
    "           8.165, 8.181, 8.383, 8.557, 8.606, 9.032, 10.482, 14.174)\n",
    "\n",
    "n = length(sample)\n",
    "breaks=seq(0, 10, by=1.25)\n",
    "breaks <- c(breaks, Inf)\n",
    "h <- hist(sample, xlim=c(0, 10), breaks=breaks)\n",
    "     \n",
    "nbins = length(h$breaks)-1\n",
    "nbins\n",
    "\n",
    "h$breaks\n",
    "nj = h$counts[1:nbins]\n",
    "npj = n*(pexp(h$breaks[2:(nbins+1)], rate=0.4)-pexp(h$breaks[1:nbins], rate=0.4))\n",
    "Kj = (nj - npj)^2/npj\n",
    "\n",
    "nj\n",
    "npj\n",
    "Kj\n",
    "sum(Kj)\n",
    "\n",
    "plot(ecdf(sample), cex=0.3)\n",
    "curve(pexp(x, rate=0.4), add=T)\n",
    "grid()"
   ]
  }
 ],
 "metadata": {
  "kernelspec": {
   "display_name": "R",
   "language": "R",
   "name": "ir"
  },
  "language_info": {
   "codemirror_mode": "r",
   "file_extension": ".r",
   "mimetype": "text/x-r-source",
   "name": "R",
   "pygments_lexer": "r",
   "version": "3.3.2"
  }
 },
 "nbformat": 4,
 "nbformat_minor": 2
}
