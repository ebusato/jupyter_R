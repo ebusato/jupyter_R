{
 "cells": [
  {
   "cell_type": "markdown",
   "metadata": {},
   "source": [
    "In this notebook, we use R to solve some problems from Benoit Clement's book"
   ]
  },
  {
   "cell_type": "markdown",
   "metadata": {},
   "source": [
    "# Exercice \"Histogramme\" (p. 27)"
   ]
  },
  {
   "cell_type": "code",
   "execution_count": 4,
   "metadata": {},
   "outputs": [],
   "source": [
    "sample <- c(3.088, 3.544, 5.014, 0.386, 1.448,\n",
    "           1.749, 1.398, 2.255, 4.084, 0.673, \n",
    "           4.085, 0.625, 4.899, 0.615, 4.029,\n",
    "           1.906, 2.094, 1.726, 0.388, 6.589,\n",
    "           0.782, 3.807, 1.552, 1.955, 2.434,\n",
    "           3.683, 1.617, 1.811, 0.989, 4.388,\n",
    "           1.706, 0.969, 0.524, 2.206, 2.955, \n",
    "           6.445, 0.81, 0.98, 6.407, 2.01,\n",
    "           2.431, 0.748, 0.041, 1.019, 1.709, \n",
    "           1.418, 1.535, 2.068, 1.18, 1.064)"
   ]
  },
  {
   "cell_type": "markdown",
   "metadata": {},
   "source": [
    "__Question 1:__"
   ]
  },
  {
   "cell_type": "code",
   "execution_count": 5,
   "metadata": {},
   "outputs": [
    {
     "data": {
      "text/html": [
       "2.23676"
      ],
      "text/latex": [
       "2.23676"
      ],
      "text/markdown": [
       "2.23676"
      ],
      "text/plain": [
       "[1] 2.23676"
      ]
     },
     "metadata": {},
     "output_type": "display_data"
    },
    {
     "data": {
      "text/html": [
       "1.64951905866466"
      ],
      "text/latex": [
       "1.64951905866466"
      ],
      "text/markdown": [
       "1.64951905866466"
      ],
      "text/plain": [
       "[1] 1.649519"
      ]
     },
     "metadata": {},
     "output_type": "display_data"
    },
    {
     "data": {
      "text/html": [
       "1.63294055690953"
      ],
      "text/latex": [
       "1.63294055690953"
      ],
      "text/markdown": [
       "1.63294055690953"
      ],
      "text/plain": [
       "[1] 1.632941"
      ]
     },
     "metadata": {},
     "output_type": "display_data"
    }
   ],
   "source": [
    "mean(sample)\n",
    "sd(sample) # biased\n",
    "n <- length(sample)\n",
    "sd(sample)*sqrt((n-1)/n) # unbiased"
   ]
  },
  {
   "cell_type": "markdown",
   "metadata": {},
   "source": [
    "__Question 2:__"
   ]
  },
  {
   "cell_type": "code",
   "execution_count": 6,
   "metadata": {},
   "outputs": [
    {
     "data": {
      "text/html": [
       "1.12356664496327"
      ],
      "text/latex": [
       "1.12356664496327"
      ],
      "text/markdown": [
       "1.12356664496327"
      ],
      "text/plain": [
       "[1] 1.123567"
      ]
     },
     "metadata": {},
     "output_type": "display_data"
    },
    {
     "data": {
      "text/html": [
       "3.53679742611737"
      ],
      "text/latex": [
       "3.53679742611737"
      ],
      "text/markdown": [
       "3.53679742611737"
      ],
      "text/plain": [
       "[1] 3.536797"
      ]
     },
     "metadata": {},
     "output_type": "display_data"
    }
   ],
   "source": [
    "library(moments)\n",
    "skewness(sample)\n",
    "kurtosis(sample)"
   ]
  },
  {
   "cell_type": "markdown",
   "metadata": {},
   "source": [
    "__Question 3:__\n",
    "\n",
    "cf book"
   ]
  },
  {
   "cell_type": "markdown",
   "metadata": {},
   "source": [
    "__Question 4:__"
   ]
  },
  {
   "cell_type": "code",
   "execution_count": 7,
   "metadata": {},
   "outputs": [
    {
     "data": {
      "text/html": [
       "<ol class=list-inline>\n",
       "\t<li>0</li>\n",
       "\t<li>3</li>\n",
       "\t<li>6</li>\n",
       "\t<li>9</li>\n",
       "</ol>\n"
      ],
      "text/latex": [
       "\\begin{enumerate*}\n",
       "\\item 0\n",
       "\\item 3\n",
       "\\item 6\n",
       "\\item 9\n",
       "\\end{enumerate*}\n"
      ],
      "text/markdown": [
       "1. 0\n",
       "2. 3\n",
       "3. 6\n",
       "4. 9\n",
       "\n",
       "\n"
      ],
      "text/plain": [
       "[1] 0 3 6 9"
      ]
     },
     "metadata": {},
     "output_type": "display_data"
    },
    {
     "data": {
      "text/html": [
       "<ol class=list-inline>\n",
       "\t<li>37</li>\n",
       "\t<li>10</li>\n",
       "\t<li>3</li>\n",
       "</ol>\n"
      ],
      "text/latex": [
       "\\begin{enumerate*}\n",
       "\\item 37\n",
       "\\item 10\n",
       "\\item 3\n",
       "\\end{enumerate*}\n"
      ],
      "text/markdown": [
       "1. 37\n",
       "2. 10\n",
       "3. 3\n",
       "\n",
       "\n"
      ],
      "text/plain": [
       "[1] 37 10  3"
      ]
     },
     "metadata": {},
     "output_type": "display_data"
    },
    {
     "data": {
      "text/html": [
       "<ol class=list-inline>\n",
       "\t<li>0</li>\n",
       "\t<li>1.2</li>\n",
       "\t<li>2.4</li>\n",
       "\t<li>3.6</li>\n",
       "\t<li>4.8</li>\n",
       "\t<li>6</li>\n",
       "\t<li>7.2</li>\n",
       "</ol>\n"
      ],
      "text/latex": [
       "\\begin{enumerate*}\n",
       "\\item 0\n",
       "\\item 1.2\n",
       "\\item 2.4\n",
       "\\item 3.6\n",
       "\\item 4.8\n",
       "\\item 6\n",
       "\\item 7.2\n",
       "\\end{enumerate*}\n"
      ],
      "text/markdown": [
       "1. 0\n",
       "2. 1.2\n",
       "3. 2.4\n",
       "4. 3.6\n",
       "5. 4.8\n",
       "6. 6\n",
       "7. 7.2\n",
       "\n",
       "\n"
      ],
      "text/plain": [
       "[1] 0.0 1.2 2.4 3.6 4.8 6.0 7.2"
      ]
     },
     "metadata": {},
     "output_type": "display_data"
    },
    {
     "data": {
      "text/html": [
       "<ol class=list-inline>\n",
       "\t<li>16</li>\n",
       "\t<li>18</li>\n",
       "\t<li>5</li>\n",
       "\t<li>6</li>\n",
       "\t<li>2</li>\n",
       "\t<li>3</li>\n",
       "</ol>\n"
      ],
      "text/latex": [
       "\\begin{enumerate*}\n",
       "\\item 16\n",
       "\\item 18\n",
       "\\item 5\n",
       "\\item 6\n",
       "\\item 2\n",
       "\\item 3\n",
       "\\end{enumerate*}\n"
      ],
      "text/markdown": [
       "1. 16\n",
       "2. 18\n",
       "3. 5\n",
       "4. 6\n",
       "5. 2\n",
       "6. 3\n",
       "\n",
       "\n"
      ],
      "text/plain": [
       "[1] 16 18  5  6  2  3"
      ]
     },
     "metadata": {},
     "output_type": "display_data"
    },
    {
     "data": {
      "text/html": [
       "<ol class=list-inline>\n",
       "\t<li>0</li>\n",
       "\t<li>0.3</li>\n",
       "\t<li>0.6</li>\n",
       "\t<li>0.9</li>\n",
       "\t<li>1.2</li>\n",
       "\t<li>1.5</li>\n",
       "\t<li>1.8</li>\n",
       "\t<li>2.1</li>\n",
       "\t<li>2.4</li>\n",
       "\t<li>2.7</li>\n",
       "\t<li>3</li>\n",
       "\t<li>3.3</li>\n",
       "\t<li>3.6</li>\n",
       "\t<li>3.9</li>\n",
       "\t<li>4.2</li>\n",
       "\t<li>4.5</li>\n",
       "\t<li>4.8</li>\n",
       "\t<li>5.1</li>\n",
       "\t<li>5.4</li>\n",
       "\t<li>5.7</li>\n",
       "\t<li>6</li>\n",
       "\t<li>6.3</li>\n",
       "\t<li>6.6</li>\n",
       "</ol>\n"
      ],
      "text/latex": [
       "\\begin{enumerate*}\n",
       "\\item 0\n",
       "\\item 0.3\n",
       "\\item 0.6\n",
       "\\item 0.9\n",
       "\\item 1.2\n",
       "\\item 1.5\n",
       "\\item 1.8\n",
       "\\item 2.1\n",
       "\\item 2.4\n",
       "\\item 2.7\n",
       "\\item 3\n",
       "\\item 3.3\n",
       "\\item 3.6\n",
       "\\item 3.9\n",
       "\\item 4.2\n",
       "\\item 4.5\n",
       "\\item 4.8\n",
       "\\item 5.1\n",
       "\\item 5.4\n",
       "\\item 5.7\n",
       "\\item 6\n",
       "\\item 6.3\n",
       "\\item 6.6\n",
       "\\end{enumerate*}\n"
      ],
      "text/markdown": [
       "1. 0\n",
       "2. 0.3\n",
       "3. 0.6\n",
       "4. 0.9\n",
       "5. 1.2\n",
       "6. 1.5\n",
       "7. 1.8\n",
       "8. 2.1\n",
       "9. 2.4\n",
       "10. 2.7\n",
       "11. 3\n",
       "12. 3.3\n",
       "13. 3.6\n",
       "14. 3.9\n",
       "15. 4.2\n",
       "16. 4.5\n",
       "17. 4.8\n",
       "18. 5.1\n",
       "19. 5.4\n",
       "20. 5.7\n",
       "21. 6\n",
       "22. 6.3\n",
       "23. 6.6\n",
       "\n",
       "\n"
      ],
      "text/plain": [
       " [1] 0.0 0.3 0.6 0.9 1.2 1.5 1.8 2.1 2.4 2.7 3.0 3.3 3.6 3.9 4.2 4.5 4.8 5.1 5.4\n",
       "[20] 5.7 6.0 6.3 6.6"
      ]
     },
     "metadata": {},
     "output_type": "display_data"
    },
    {
     "data": {
      "text/html": [
       "<ol class=list-inline>\n",
       "\t<li>1</li>\n",
       "\t<li>3</li>\n",
       "\t<li>6</li>\n",
       "\t<li>6</li>\n",
       "\t<li>3</li>\n",
       "\t<li>7</li>\n",
       "\t<li>6</li>\n",
       "\t<li>2</li>\n",
       "\t<li>2</li>\n",
       "\t<li>1</li>\n",
       "\t<li>1</li>\n",
       "\t<li>1</li>\n",
       "\t<li>2</li>\n",
       "\t<li>3</li>\n",
       "\t<li>1</li>\n",
       "\t<li>0</li>\n",
       "\t<li>2</li>\n",
       "\t<li>0</li>\n",
       "\t<li>0</li>\n",
       "\t<li>0</li>\n",
       "\t<li>0</li>\n",
       "\t<li>3</li>\n",
       "</ol>\n"
      ],
      "text/latex": [
       "\\begin{enumerate*}\n",
       "\\item 1\n",
       "\\item 3\n",
       "\\item 6\n",
       "\\item 6\n",
       "\\item 3\n",
       "\\item 7\n",
       "\\item 6\n",
       "\\item 2\n",
       "\\item 2\n",
       "\\item 1\n",
       "\\item 1\n",
       "\\item 1\n",
       "\\item 2\n",
       "\\item 3\n",
       "\\item 1\n",
       "\\item 0\n",
       "\\item 2\n",
       "\\item 0\n",
       "\\item 0\n",
       "\\item 0\n",
       "\\item 0\n",
       "\\item 3\n",
       "\\end{enumerate*}\n"
      ],
      "text/markdown": [
       "1. 1\n",
       "2. 3\n",
       "3. 6\n",
       "4. 6\n",
       "5. 3\n",
       "6. 7\n",
       "7. 6\n",
       "8. 2\n",
       "9. 2\n",
       "10. 1\n",
       "11. 1\n",
       "12. 1\n",
       "13. 2\n",
       "14. 3\n",
       "15. 1\n",
       "16. 0\n",
       "17. 2\n",
       "18. 0\n",
       "19. 0\n",
       "20. 0\n",
       "21. 0\n",
       "22. 3\n",
       "\n",
       "\n"
      ],
      "text/plain": [
       " [1] 1 3 6 6 3 7 6 2 2 1 1 1 2 3 1 0 2 0 0 0 0 3"
      ]
     },
     "metadata": {},
     "output_type": "display_data"
    },
    {
     "data": {
      "image/png": "[encoded data removed]",
      "text/plain": [
       "Plot with title “Histogram of sample”"
      ]
     },
     "metadata": {},
     "output_type": "display_data"
    }
   ],
   "source": [
    "# These first two lines are to configure the graphical representation\n",
    "library(repr)\n",
    "options(repr.plot.width=9, repr.plot.height=4)\n",
    "\n",
    "# This function computes the number of bins and maxval of the histogram\n",
    "myfunction <- function(sample, binWidth){\n",
    "    max(sample)\n",
    "    max(sample)/w\n",
    "    nBins <- ceiling(max(sample)/w)\n",
    "    maxVal <- nBins*w\n",
    "    return(c(nBins, maxVal))\n",
    "}\n",
    "\n",
    "# This splits the graphics window into 3 pads\n",
    "par(mfrow = c(1, 3))\n",
    "\n",
    "w <- 3\n",
    "res <- myfunction(sample, w)\n",
    "h1 <- hist(sample, breaks=seq(0, res[2], length.out=res[1]+1))\n",
    "h1$breaks\n",
    "h1$counts\n",
    "\n",
    "w <- 1.2\n",
    "res <- myfunction(sample, w)\n",
    "h2 <- hist(sample, breaks=seq(0, res[2], length.out=res[1]+1))\n",
    "h2$breaks\n",
    "h2$counts\n",
    "\n",
    "w <- 0.3\n",
    "res <- myfunction(sample, w)\n",
    "h3 <- hist(sample, breaks=seq(0, res[2], length.out=res[1]+1))\n",
    "h3$breaks\n",
    "h3$counts"
   ]
  },
  {
   "cell_type": "markdown",
   "metadata": {},
   "source": [
    "__Question 5:__\n",
    "\n",
    "First, let's see what quantities are available for each histogram:"
   ]
  },
  {
   "cell_type": "code",
   "execution_count": 18,
   "metadata": {},
   "outputs": [
    {
     "data": {
      "text/plain": [
       "$breaks\n",
       "[1] 0 3 6 9\n",
       "\n",
       "$counts\n",
       "[1] 37 10  3\n",
       "\n",
       "$density\n",
       "[1] 0.24666667 0.06666667 0.02000000\n",
       "\n",
       "$mids\n",
       "[1] 1.5 4.5 7.5\n",
       "\n",
       "$xname\n",
       "[1] \"sample\"\n",
       "\n",
       "$equidist\n",
       "[1] TRUE\n",
       "\n",
       "attr(,\"class\")\n",
       "[1] \"histogram\""
      ]
     },
     "metadata": {},
     "output_type": "display_data"
    }
   ],
   "source": [
    "h1"
   ]
  },
  {
   "cell_type": "code",
   "execution_count": 23,
   "metadata": {},
   "outputs": [
    {
     "data": {
      "text/html": [
       "2.46"
      ],
      "text/latex": [
       "2.46"
      ],
      "text/markdown": [
       "2.46"
      ],
      "text/plain": [
       "[1] 2.46"
      ]
     },
     "metadata": {},
     "output_type": "display_data"
    },
    {
     "data": {
      "text/html": [
       "2.256"
      ],
      "text/latex": [
       "2.256"
      ],
      "text/markdown": [
       "2.256"
      ],
      "text/plain": [
       "[1] 2.256"
      ]
     },
     "metadata": {},
     "output_type": "display_data"
    },
    {
     "data": {
      "text/html": [
       "2.238"
      ],
      "text/latex": [
       "2.238"
      ],
      "text/markdown": [
       "2.238"
      ],
      "text/plain": [
       "[1] 2.238"
      ]
     },
     "metadata": {},
     "output_type": "display_data"
    },
    {
     "data": {
      "text/html": [
       "1.74310068556007"
      ],
      "text/latex": [
       "1.74310068556007"
      ],
      "text/markdown": [
       "1.74310068556007"
      ],
      "text/plain": [
       "[1] 1.743101"
      ]
     },
     "metadata": {},
     "output_type": "display_data"
    },
    {
     "data": {
      "text/html": [
       "1.72883313249139"
      ],
      "text/latex": [
       "1.72883313249139"
      ],
      "text/markdown": [
       "1.72883313249139"
      ],
      "text/plain": [
       "[1] 1.728833"
      ]
     },
     "metadata": {},
     "output_type": "display_data"
    },
    {
     "data": {
      "text/html": [
       "1.61661869344629"
      ],
      "text/latex": [
       "1.61661869344629"
      ],
      "text/markdown": [
       "1.61661869344629"
      ],
      "text/plain": [
       "[1] 1.616619"
      ]
     },
     "metadata": {},
     "output_type": "display_data"
    }
   ],
   "source": [
    "meanh1 <- 1/n*sum(h1$counts*h1$mids)\n",
    "meanh1\n",
    "meanh2 <- 1/n*sum(h2$counts*h2$mids)\n",
    "meanh2\n",
    "meanh3 <- 1/n*sum(h3$counts*h3$mids)\n",
    "meanh3\n",
    "\n",
    "sdh1 <- sqrt(1/n*sum(h1$counts*(h1$mids-meanh1)^2))\n",
    "sdh1\n",
    "sdh2 <- sqrt(1/n*sum(h2$counts*(h2$mids-meanh2)^2))\n",
    "sdh2\n",
    "sdh3 <- sqrt(1/n*sum(h3$counts*(h3$mids-meanh3)^2))\n",
    "sdh3"
   ]
  },
  {
   "cell_type": "code",
   "execution_count": null,
   "metadata": {
    "collapsed": true
   },
   "outputs": [],
   "source": []
  }
 ],
 "metadata": {
  "kernelspec": {
   "display_name": "R",
   "language": "R",
   "name": "ir"
  },
  "language_info": {
   "codemirror_mode": "r",
   "file_extension": ".r",
   "mimetype": "text/x-r-source",
   "name": "R",
   "pygments_lexer": "r",
   "version": "3.3.2"
  }
 },
 "nbformat": 4,
 "nbformat_minor": 2
}
